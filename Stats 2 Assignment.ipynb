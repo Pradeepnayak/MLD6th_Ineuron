{
 "cells": [
  {
   "cell_type": "code",
   "execution_count": 2,
   "metadata": {
    "colab": {
     "base_uri": "https://localhost:8080/",
     "height": 71
    },
    "colab_type": "code",
    "id": "6rea62s9Odko",
    "outputId": "89245c02-cfd9-4124-ade0-5510dc2e2e07"
   },
   "outputs": [],
   "source": [
    "import numpy as np\n",
    "import pandas as pd\n",
    "import matplotlib.pyplot as plt\n",
    "import seaborn as sns\n",
    "import scipy.stats as stats\n",
    "%matplotlib inline"
   ]
  },
  {
   "cell_type": "markdown",
   "metadata": {
    "colab_type": "text",
    "id": "IdX5M4SlR1Z-"
   },
   "source": [
    "**Problem Statement 1:**\n",
    "\n",
    "**In each of the following situations, state whether it is a correctly stated hypothesis testing problem and why?**\n",
    "\n",
    "**1. 𝐻0: 𝜇 = 25, 𝐻1: 𝜇 ≠ 25**"
   ]
  },
  {
   "cell_type": "markdown",
   "metadata": {
    "colab_type": "text",
    "id": "C3uOifjeSE7H"
   },
   "source": [
    "It is stated correctly because alternate hypothesis is totally opposite of null hypothesis and hypothesis always tested on population data."
   ]
  },
  {
   "cell_type": "markdown",
   "metadata": {
    "colab_type": "text",
    "id": "QIYc4HepSFNx"
   },
   "source": [
    "**2. 𝐻0: 𝜎 > 10, 𝐻1: 𝜎 = 10**"
   ]
  },
  {
   "cell_type": "markdown",
   "metadata": {
    "colab_type": "text",
    "id": "8iuNCt1ISFWm"
   },
   "source": [
    "It is stated correctly because it is tested on population standard deviation."
   ]
  },
  {
   "cell_type": "markdown",
   "metadata": {
    "colab_type": "text",
    "id": "aq1lx7NeSFTt"
   },
   "source": [
    "**3. 𝐻0: x̅ = 50, 𝐻1: x̅ ≠ 50**"
   ]
  },
  {
   "cell_type": "markdown",
   "metadata": {
    "colab_type": "text",
    "id": "nPWeaRWcSFKE"
   },
   "source": [
    "It is not stated correctly because hypothesis testing done on population data. Not in sample data.(x̅ = sample mean)"
   ]
  },
  {
   "cell_type": "markdown",
   "metadata": {
    "colab_type": "text",
    "id": "GwR_UpUsHF9x"
   },
   "source": [
    "**4. 𝐻0: 𝑝 = 0.1, 𝐻1: 𝑝 = 0.5**"
   ]
  },
  {
   "cell_type": "markdown",
   "metadata": {
    "colab_type": "text",
    "id": "wQHcsdZJHF4o"
   },
   "source": [
    "It is not stated correctly because null and alternate hypothesis are opposit to each other. They never be the same."
   ]
  },
  {
   "cell_type": "markdown",
   "metadata": {
    "colab_type": "text",
    "id": "efHG5r07HRjr"
   },
   "source": [
    "**5. 𝐻0: 𝑠 = 30, 𝐻1: 𝑠 > 30**"
   ]
  },
  {
   "cell_type": "markdown",
   "metadata": {
    "colab_type": "text",
    "id": "TAfaAQ5dHFza"
   },
   "source": [
    "It is stated incorrectly because hypothesis testing done on population data. Not in sample data. (s = sample statndard deviation)"
   ]
  },
  {
   "cell_type": "markdown",
   "metadata": {
    "colab_type": "text",
    "id": "kJBmzNKIHxbn"
   },
   "source": [
    "**Problem Statement 2:**\n",
    "\n",
    "**The college bookstore tells prospective students that the average cost of its\n",
    "textbooks is Rs. 52 with a standard deviation of Rs. 4.50. A group of smart statistics\n",
    "students thinks that the average cost is higher. To test the bookstore’s claim against\n",
    "their alternative, the students will select a random sample of size 100. Assume that\n",
    "the mean from their random sample is Rs. 52.80. Perform a hypothesis test at the\n",
    "5% level of significance and state your decision.**"
   ]
  },
  {
   "cell_type": "code",
   "execution_count": 3,
   "metadata": {
    "colab_type": "text",
    "id": "7qmtPeQ2H_PG"
   },
   "outputs": [],
   "source": [
    "#H0 : mean of average cost of textbooks = 52\n",
    "\n",
    "#H1 : mean of average cost of textbooks > 52"
   ]
  },
  {
   "cell_type": "code",
   "execution_count": 2,
   "metadata": {
    "colab": {
     "base_uri": "https://localhost:8080/",
     "height": 68
    },
    "colab_type": "code",
    "id": "Fj5QmfY3HEid",
    "outputId": "e8f97058-8358-45ac-80f8-6e9a1e41d3e6"
   },
   "outputs": [
    {
     "name": "stdout",
     "output_type": "stream",
     "text": [
      "Z-Statistic value = 1.7777777777777715\n",
      "Z-alpha value = 1.6448536269514729\n",
      "P-value = 0.03772017981340073\n"
     ]
    }
   ],
   "source": [
    "n = 100\n",
    "mu = 52\n",
    "sigma = 4.50\n",
    "xbar = 52.80\n",
    "alpha = 0.05\n",
    "se = sigma/np.sqrt(n)  # Statndar Error\n",
    "zstat = (xbar - mu)/se\n",
    "zalpha = stats.norm.isf(0.05)\n",
    "print('Z-Statistic value =',zstat)\n",
    "print('Z-alpha value =',zalpha)\n",
    "pvalue = stats.norm.sf(zstat)\n",
    "print('P-value =',pvalue)"
   ]
  },
  {
   "cell_type": "markdown",
   "metadata": {
    "colab_type": "text",
    "id": "f7XWgldhJNul"
   },
   "source": [
    "**As the Z-Statistic > Z-alpha and pvalue < 0.05 , we reject the null hypothesis and accept the alternate hypothesis i.e. mean of average cost of textbooks > 52**"
   ]
  },
  {
   "cell_type": "markdown",
   "metadata": {
    "colab_type": "text",
    "id": "ptVni4HVJnb9"
   },
   "source": [
    "------------------------------------"
   ]
  },
  {
   "cell_type": "markdown",
   "metadata": {
    "colab_type": "text",
    "id": "d0MG6DdYJnnM"
   },
   "source": [
    "**Problem Statement 3:**\n",
    "\n",
    "**A certain chemical pollutant in the Genesee River has been constant for several\n",
    "years with mean μ = 34 ppm (parts per million) and standard deviation σ = 8 ppm. A\n",
    "group of factory representatives whose companies discharge liquids into the river is\n",
    "now claiming that they have lowered the average with improved filtration devices. A\n",
    "group of environmentalists will test to see if this is true at the 1% level of\n",
    "significance. Assume \\ that their sample of size 50 gives a mean of 32.5 ppm.\n",
    "Perform a hypothesis test at the 1% level of significance and state your decision.**"
   ]
  },
  {
   "cell_type": "code",
   "execution_count": 4,
   "metadata": {
    "colab_type": "text",
    "id": "Nqx4r-W1KKBP"
   },
   "outputs": [],
   "source": [
    "#H0 : mean of a certain chemical pollutant in the Genesee River = 34 ppm\n",
    "#H1 : mean of a certain chemical pollutant in the Genesee River < 34 ppm"
   ]
  },
  {
   "cell_type": "code",
   "execution_count": 3,
   "metadata": {
    "colab": {
     "base_uri": "https://localhost:8080/",
     "height": 68
    },
    "colab_type": "code",
    "id": "svucC-MAJIw8",
    "outputId": "01206e80-c0b4-4a30-cda9-fc995ce9d914"
   },
   "outputs": [
    {
     "name": "stdout",
     "output_type": "stream",
     "text": [
      "Z-Statistic value = -1.3258252147247767\n",
      "Z-alpha value = -2.3263478740408408\n",
      "P-value = 0.9075512005172\n"
     ]
    }
   ],
   "source": [
    "n = 50\n",
    "mu = 34\n",
    "sigma = 8\n",
    "xbar = 32.5\n",
    "alpha = 0.01\n",
    "se = sigma/np.sqrt(n)  # Statndar Error\n",
    "zstat = (xbar - mu)/se\n",
    "zalpha = stats.norm.ppf(0.01)\n",
    "print('Z-Statistic value =',zstat)\n",
    "print('Z-alpha value =',zalpha)\n",
    "pvalue = stats.norm.sf(zstat)\n",
    "print('P-value =',pvalue)"
   ]
  },
  {
   "cell_type": "markdown",
   "metadata": {
    "colab_type": "text",
    "id": "qDIw3JzxK2wf"
   },
   "source": [
    "**As the mod(Z-Statistic) < mod(Z-alpha) and pvalue > 0.01 , we fail to reject the null hypothesis i.e. mean of a certain chemical pollutant in the Genesee River = 34 ppm**"
   ]
  },
  {
   "cell_type": "markdown",
   "metadata": {
    "colab_type": "text",
    "id": "PCenf3ZGLoV3"
   },
   "source": [
    "--------------"
   ]
  },
  {
   "cell_type": "markdown",
   "metadata": {
    "colab_type": "text",
    "id": "pfBjxwCTLoRl"
   },
   "source": [
    "**Problem Statement 4:**\n",
    "\n",
    "**Based on population figures and other general information on the U.S. population,\n",
    "suppose it has been estimated that, on average, a family of four in the U.S. spends\n",
    "about $1135 annually on dental expenditures. Suppose further that a regional dental\n",
    "association wants to test to determine if this figure is accurate for their area of\n",
    "country. To test this, 22 families of 4 are randomly selected from the population in\n",
    "that area of the country and a log is kept of the family’s dental expenditure for one\n",
    "year. The resulting data are given below. Assuming, that dental expenditure is\n",
    "normally distributed in the population, use the data and an alpha of 0.5 to test the\n",
    "dental association’s hypothesis.**\n",
    "\n",
    "**1008, 812, 1117, 1323, 1308, 1415, 831, 1021, 1287, 851, 930, 730, 699,\n",
    "872, 913, 944, 954, 987, 1695, 995, 1003, 994**"
   ]
  },
  {
   "cell_type": "markdown",
   "metadata": {
    "colab_type": "text",
    "id": "pja8fqxMLySC"
   },
   "source": [
    "H0 : mean of dental expenditure of a family of 4 in a year = $1135\n",
    "\n",
    "H1 : mean of dental expenditure of a family of 4 in a year != $1135"
   ]
  },
  {
   "cell_type": "code",
   "execution_count": 5,
   "metadata": {
    "colab": {
     "base_uri": "https://localhost:8080/",
     "height": 68
    },
    "colab_type": "code",
    "id": "_qqi_KR9Lwld",
    "outputId": "b4881ec5-2102-4a92-9232-e0aa97f8dddc"
   },
   "outputs": [
    {
     "name": "stdout",
     "output_type": "stream",
     "text": [
      "T-Statistic value = -2.023137479931484\n",
      "T-alpha value = -2.0796138447276626\n",
      "P-value = 0.0559738319464585\n"
     ]
    }
   ],
   "source": [
    "n = 22\n",
    "mu = 1135\n",
    "sample = np.array([1008, 812, 1117, 1323, 1308, 1415, 831, 1021, 1287, 851, 930, 730, 699, 872, 913, 944, 954, 987, 1695, 995, 1003, 994])\n",
    "xbar = sample.mean()\n",
    "s = sample.std(ddof = 1)\n",
    "alpha = 0.05\n",
    "se = s/np.sqrt(n)   # Statndar Error\n",
    "tstat = (xbar - mu)/se\n",
    "talphaby2 = stats.t.ppf(alpha/2,n-1)\n",
    "print('T-Statistic value =',tstat)\n",
    "print('T-alpha value =',talphaby2)\n",
    "pvalue = stats.t.cdf(tstat,n-1)*2\n",
    "print('P-value =',pvalue)"
   ]
  },
  {
   "cell_type": "markdown",
   "metadata": {
    "colab_type": "text",
    "id": "zoJ9gI18NZxI"
   },
   "source": [
    "**As the mod(T-Statistic) < mod(T-alpha) and pvalue > 0.05 , we fail to reject the null hypothesis i.e. on an average, the dental expenditure of a family of 4 in a year = $1135**"
   ]
  },
  {
   "cell_type": "markdown",
   "metadata": {
    "colab_type": "text",
    "id": "UCoc0Vw8OLu1"
   },
   "source": [
    "------------------"
   ]
  },
  {
   "cell_type": "markdown",
   "metadata": {
    "colab_type": "text",
    "id": "c9gm5kO5OMea"
   },
   "source": [
    "**Problem Statement 5:**\n",
    "\n",
    "**In a report prepared by the Economic Research Department of a major bank the\n",
    "Department manager maintains that the average annual family income on Metropolis\n",
    "is 48,432. What do you conclude about the validity of the report if a random sample of 400 families shows and average income of 48,574 with a standard deviation of\n",
    "2000?**"
   ]
  },
  {
   "cell_type": "code",
   "execution_count": 6,
   "metadata": {
    "colab_type": "text",
    "id": "X5Q5BQGnOMU-"
   },
   "outputs": [],
   "source": [
    "#H0 : Average annual family income on Metropolis = 48,432\n",
    "#H1 : Average annual family income on Metropolis != 48,432"
   ]
  },
  {
   "cell_type": "code",
   "execution_count": 5,
   "metadata": {
    "colab": {
     "base_uri": "https://localhost:8080/",
     "height": 68
    },
    "colab_type": "code",
    "id": "ZO5D_AAcNJva",
    "outputId": "e07a5a0c-6040-439e-e015-abbc7b80ac86"
   },
   "outputs": [
    {
     "name": "stdout",
     "output_type": "stream",
     "text": [
      "T-Statistic value = 1.42\n",
      "T-alpha value = 1.9659272959208094\n",
      "P-value = 1.8436114582232594\n"
     ]
    }
   ],
   "source": [
    "n = 400\n",
    "mu = 48432\n",
    "xbar = 48574\n",
    "s = 2000\n",
    "alpha = 0.05\n",
    "se = s/np.sqrt(n)# Statndar Error\n",
    "tstat = (xbar - mu)/se\n",
    "talphaby2 = stats.t.isf(alpha/2,n-1)\n",
    "print('T-Statistic value =',tstat)\n",
    "print('T-alpha value =',talphaby2)\n",
    "pvalue = stats.t.cdf(tstat,n-1)*2\n",
    "print('P-value =',pvalue)"
   ]
  },
  {
   "cell_type": "markdown",
   "metadata": {
    "colab_type": "text",
    "id": "eFWd05Z1TLZh"
   },
   "source": [
    "**As the mod(T-Statistic) < mod(T-alpha) and pvalue > 0.05 , we fail to reject the null hypothesis i.e. Average annual family income on Metropolis is 48,432**"
   ]
  },
  {
   "cell_type": "markdown",
   "metadata": {
    "colab_type": "text",
    "id": "We_BhbOpTLx4"
   },
   "source": [
    "-------------------------"
   ]
  },
  {
   "cell_type": "markdown",
   "metadata": {
    "colab_type": "text",
    "id": "zjtaZWWfTL8m"
   },
   "source": [
    "**Problem Statement 6:**\n",
    "\n",
    "**Suppose that in past years the average price per square foot for warehouses in the\n",
    "United States has been 32.28. A national real estate investor wants to determine\n",
    "whether that figure has changed now. The investor hires a researcher who randomly\n",
    "samples 19 warehouses that are for sale across the United States and finds that the\n",
    "mean price per square foot is 31.67, with a standard deviation of 1.29. assume\n",
    "that the prices of warehouse footage are normally distributed in population. If the\n",
    "researcher uses a 5% level of significance, what statistical conclusion can be\n",
    "reached? What are the hypotheses?**"
   ]
  },
  {
   "cell_type": "code",
   "execution_count": 7,
   "metadata": {
    "colab_type": "text",
    "id": "STMsnvIFTMPJ"
   },
   "outputs": [],
   "source": [
    "#H0 : Average price per square foot for warehouses in the United States = 32.28\n",
    "#H1 : Average price per square foot for warehouses in the United States != 32.28"
   ]
  },
  {
   "cell_type": "code",
   "execution_count": 6,
   "metadata": {
    "colab": {
     "base_uri": "https://localhost:8080/",
     "height": 68
    },
    "colab_type": "code",
    "id": "oELndyrqHEVV",
    "outputId": "3dc08df7-8a9f-4b36-9736-d867d461def9"
   },
   "outputs": [
    {
     "name": "stdout",
     "output_type": "stream",
     "text": [
      "T-Statistic value = -2.06118477175179\n",
      "T-alpha value = -2.10092204024096\n",
      "P-value = 0.0540335291599721\n"
     ]
    }
   ],
   "source": [
    "n = 19\n",
    "mu = 32.28\n",
    "xbar = 31.67\n",
    "s = 1.29\n",
    "alpha = 0.05\n",
    "se = s/np.sqrt(n)# Statndar Error\n",
    "tstat = (xbar - mu)/se\n",
    "talphaby2 = stats.t.ppf(alpha/2,n-1)\n",
    "print('T-Statistic value =',tstat)\n",
    "print('T-alpha value =',talphaby2)\n",
    "pvalue = stats.t.cdf(tstat,n-1)*2\n",
    "print('P-value =',pvalue)"
   ]
  },
  {
   "cell_type": "markdown",
   "metadata": {
    "colab_type": "text",
    "id": "-Dm4wydqHwp1"
   },
   "source": [
    "**As the mod(T-Statistic) < mod(T-alpha) and pvalue > 0.05 , we fail to reject the null hypothesis i.e. Average price per square foot for warehouses in the United States is 32.28**"
   ]
  },
  {
   "cell_type": "markdown",
   "metadata": {
    "colab_type": "text",
    "id": "5ylyFYDwHw2n"
   },
   "source": [
    "--------------------------------"
   ]
  },
  {
   "cell_type": "markdown",
   "metadata": {
    "colab_type": "text",
    "id": "PE0xR98LTpDC"
   },
   "source": [
    "**Problem Statement 7:**\n",
    "\n",
    "**Fill in the blank spaces in the table and draw your conclusions from it.**"
   ]
  },
  {
   "cell_type": "markdown",
   "metadata": {
    "colab_type": "text",
    "id": "X4vp0hjlRNBI"
   },
   "source": [
    "![image.png](data:image/png;base64,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)"
   ]
  },
  {
   "cell_type": "code",
   "execution_count": 39,
   "metadata": {
    "colab": {
     "base_uri": "https://localhost:8080/",
     "height": 68
    },
    "colab_type": "code",
    "id": "sl_4lEgsXE4R",
    "outputId": "4c9d0f51-a0fa-4e44-8f19-171754713012"
   },
   "outputs": [
    {
     "name": "stdout",
     "output_type": "stream",
     "text": [
      "The value of α in the acceptance area 48.5 < x̅ < 51.5 for sample size = 10 is 0.057779571123597204\n",
      "The value of β at μ = 52 and acceptance area 48.5 < x̅ < 51.5 for sample size = 10 is 0.26353985497284643\n",
      "The value of β at μ = 50.5 and acceptance area 48.5 < x̅ < 51.5 for sample size = 10 is 0.8913423764409649\n"
     ]
    }
   ],
   "source": [
    "n = 10\n",
    "mu = 50\n",
    "sigma = 2.5\n",
    "ul = 51.5   # Upper Limit\n",
    "ll = 48.5   # Lower Limit\n",
    "se = sigma/np.sqrt(n)  # Statndar Error\n",
    "zcrit = (ul - mu)/se   # Z-Critical value\n",
    "alpha = stats.norm.sf(zcrit)*2  # The value of α\n",
    "mu1 = 52\n",
    "zstatll = (ll - mu1)/se  # for Z <= -4.43 \n",
    "zstatul = (ul - mu1)/se  # for Z <= -0.63\n",
    "beta = stats.norm.cdf(zstatul) - stats.norm.cdf(zstatll) # P(Z ≤ −0.63)−P(Z ≤ −4.43)\n",
    "mu2 = 50.5\n",
    "zstatll = (ll - mu2)/se  # Z <= -2.53 \n",
    "zstatul = (ul - mu2)/se  # Z <= 1.27\n",
    "beta2 = stats.norm.cdf(zstatul) - stats.norm.cdf(zstatll)  #= P(Z ≤ 1.27)−P(Z ≤ −2.53)\n",
    "print ('The value of α in the acceptance area 48.5 < x̅ < 51.5 for sample size = 10 is',alpha)\n",
    "print('The value of β at μ = 52 and acceptance area 48.5 < x̅ < 51.5 for sample size = 10 is',beta)\n",
    "print('The value of β at μ = 50.5 and acceptance area 48.5 < x̅ < 51.5 for sample size = 10 is',beta2)"
   ]
  },
  {
   "cell_type": "code",
   "execution_count": 38,
   "metadata": {
    "colab": {
     "base_uri": "https://localhost:8080/",
     "height": 68
    },
    "colab_type": "code",
    "id": "zNWRVvXjXE18",
    "outputId": "43544e89-967a-40b6-c16f-cbae6d7d637e"
   },
   "outputs": [
    {
     "name": "stdout",
     "output_type": "stream",
     "text": [
      "The value of α in the acceptance area 48.5 < x̅ < 51.5 for sample size = 10 is 0.011412036386001651\n",
      "The value of β at μ = 52 and acceptance area 48.5 < x̅ < 51.5 for sample size = 10 is 0.4999997899803012\n",
      "The value of β at μ = 50.5 and acceptance area 48.5 < x̅ < 51.5 for sample size = 10 is 0.9703275133092002\n"
     ]
    }
   ],
   "source": [
    "n = 10\n",
    "mu = 50\n",
    "sigma = 2.5\n",
    "ul = 52\n",
    "ll = 48\n",
    "se = sigma/np.sqrt(n)\n",
    "zstat = (ul - mu)/se\n",
    "alpha = stats.norm.sf(zstat)*2  # The value of α\n",
    "mu1 = 52\n",
    "zstatll = (ll - mu1)/se \n",
    "zstatul = (ul - mu1)/se \n",
    "beta = stats.norm.cdf(zstatul) - stats.norm.cdf(zstatll)\n",
    "mu2 = 50.5\n",
    "zstatll = (ll - mu2)/se  \n",
    "zstatul = (ul - mu2)/se  \n",
    "beta2 = stats.norm.cdf(zstatul) - stats.norm.cdf(zstatll)\n",
    "print ('The value of α in the acceptance area 48 < x̅ < 52 for sample size = 10 is',alpha)\n",
    "print('The value of β at μ = 52 and acceptance area 48 < x̅ < 52 for sample size = 10 is',beta)\n",
    "print('The value of β at μ = 50.5 and acceptance area 48 < x̅ < 52 for sample size = 10 is',beta2)"
   ]
  },
  {
   "cell_type": "code",
   "execution_count": 43,
   "metadata": {
    "colab": {
     "base_uri": "https://localhost:8080/",
     "height": 68
    },
    "colab_type": "code",
    "id": "J5OfhfPNXEzv",
    "outputId": "3fc0d323-b7c9-44cd-f7d5-571ed8eefae6"
   },
   "outputs": [
    {
     "name": "stdout",
     "output_type": "stream",
     "text": [
      "The value of α in the acceptance area 48.81 < x̅ < 51.9 for sample size = 16 is 0.00236578148620883\n",
      "The value of β at μ = 52 and acceptance area 48.81 < x̅ < 51.9 for sample size = 16 is 0.4364403708344303\n",
      "The value of β at μ = 50.5 and acceptance area 48.81 < x̅ < 51.9 for sample size = 16 is 0.9840290241059673\n"
     ]
    }
   ],
   "source": [
    "n = 16\n",
    "mu = 50\n",
    "sigma = 2.5\n",
    "ul = 51.9\n",
    "ll = 48.81\n",
    "se = sigma/np.sqrt(n)\n",
    "zstat = (ul - mu)/se\n",
    "alpha = stats.norm.sf(zstat)*2  # The value of α\n",
    "mu1 = 52\n",
    "zstatll = (ll - mu1)/se \n",
    "zstatul = (ul - mu1)/se \n",
    "beta = stats.norm.cdf(zstatul) - stats.norm.cdf(zstatll)\n",
    "mu2 = 50.5\n",
    "zstatll = (ll - mu2)/se  \n",
    "zstatul = (ul - mu2)/se  \n",
    "beta2 = stats.norm.cdf(zstatul) - stats.norm.cdf(zstatll)\n",
    "print ('The value of α in the acceptance area 48.81 < x̅ < 51.9 for sample size = 16 is',alpha)\n",
    "print('The value of β at μ = 52 and acceptance area 48.81 < x̅ < 51.9 for sample size = 16 is',beta)\n",
    "print('The value of β at μ = 50.5 and acceptance area 48.81 < x̅ < 51.9 for sample size = 16 is',beta2)"
   ]
  },
  {
   "cell_type": "code",
   "execution_count": 44,
   "metadata": {
    "colab": {
     "base_uri": "https://localhost:8080/",
     "height": 68
    },
    "colab_type": "code",
    "id": "JfenKcJpXExF",
    "outputId": "63eaea62-0877-444f-eb04-03582c05d0ae"
   },
   "outputs": [
    {
     "name": "stdout",
     "output_type": "stream",
     "text": [
      "The value of α in the acceptance area 48.42 < x̅ < 51.58 for sample size = 16 is 0.011471435197072154\n",
      "The value of β at μ = 52 and acceptance area 48.42 < x̅ < 51.58 for sample size = 16 is 0.25079184307889046\n",
      "The value of β at μ = 50.5 and acceptance area 48.42 < x̅ < 51.58 for sample size = 16 is 0.9575685284788618\n"
     ]
    }
   ],
   "source": [
    "n = 16\n",
    "mu = 50\n",
    "sigma = 2.5\n",
    "ul = 51.58\n",
    "ll = 48.42\n",
    "se = sigma/np.sqrt(n)\n",
    "zstat = (ul - mu)/se\n",
    "alpha = stats.norm.sf(zstat)*2  # The value of α\n",
    "mu1 = 52\n",
    "zstatll = (ll - mu1)/se \n",
    "zstatul = (ul - mu1)/se \n",
    "beta = stats.norm.cdf(zstatul) - stats.norm.cdf(zstatll)\n",
    "mu2 = 50.5\n",
    "zstatll = (ll - mu2)/se  \n",
    "zstatul = (ul - mu2)/se  \n",
    "beta2 = stats.norm.cdf(zstatul) - stats.norm.cdf(zstatll)\n",
    "print ('The value of α in the acceptance area 48.42 < x̅ < 51.58 for sample size = 16 is',alpha)\n",
    "print('The value of β at μ = 52 and acceptance area 48.42 < x̅ < 51.58 for sample size = 16 is',beta)\n",
    "print('The value of β at μ = 50.5 and acceptance area 48.42 < x̅ < 51.58 for sample size = 16 is',beta2)"
   ]
  },
  {
   "cell_type": "markdown",
   "metadata": {
    "colab_type": "text",
    "id": "qEma2Aage3w9"
   },
   "source": [
    "![Stats2_problem7.PNG](data:image/png;base64,iVBORw0KGgoAAAANSUhEUgAAAsgAAAD6CAYAAAC8hrH5AAAAAXNSR0IArs4c6QAAAARnQU1BAACxjwv8YQUAAAAJcEhZcwAADsMAAA7DAcdvqGQAADfsSURBVHhe7Z3dcdw6DEZvK0kZ7sEuwx1sH352IX5KKsmMW9kr/kkQRYKQduWFk3NmONcrgiAJfqJgrq7z3xUAAAAAAGZIkAEAAAAABCTIAAAAAAACEmQAAAAAAAEJMgAAAACAgAQZAAAAAEBAggwAAAAAICBBBgAAAAAQkCADAAAAAAhIkAEAAAAABGqC/N9//1EoFAqFQqFQKH9NsTBMkAEK6EGH+IAH0CF4AS2CR6y6VK0QN0jQgw7xAQ98ex3+vlx//vy5lMvvXPE38Pt6kXPLRU7x8/2lW/fd+FZa/Md19/si6y5TC42xP89Ydala8cAHCXrQIT7gge+swzo5nMuNT97w8Hfx8P58v7405lfG1pv/d0k8ar6LFtFdY/4v79fPVL1l4M87Vl2qVjzwvwF/3q5P0zr99/R2/ZMvncX318PH9fXEWHG/gAe+rw4/r+8v6UH78p4fzfOp3uhEq8fi08XDu8ynOZjtWOdTve+SeVR8Dy3+67orp8Ev1zR9w9hVf/6x6lK1sov7z/Xtqbz8/DqlIY+kjOXp+nZ2xmgmJ2Z1eb1DpL5LglzGmcvTQxaHBNkny4Y8b7r5hGJ+YIGZ76vD+kEdKNeURKVxmpV0U+kqlOapWKuP0laORTAnUK3SaTOx/ho7lTnHmOchxvGPJCKPBd3FeYgxlhPl3v6r+vsGWHWpWpnFnZOfp6en2OYeed9xPCfIyy8PH6+PTBSPcXiz2yTxYY0esT4kyP5oPEzm0t/woc/31eE2YRg9qJc2dQna8Zao9LQ+Tmy+aX78TbT4j+uu9UuY+ovZfh17w6pL1crq5M9bSIyn5K8kQpsMeX2CulTbrq8TmlT39PYhTq1LoilPsnMpbasTzGWMbX/rKRwZp6TYidP1j9fUphpH11ex39jkdo0YLbYyGU11+nzbBLtDbOZacWBtkubS5+WXjLZ9Xa/GqruGY0J72Mm84S+b6/I+nHxwgJXvq0OZMIgEZFd2uDy8U7P6c4sDicohSj+LT+0Vivk+aCZX34PvocV/XHe7E+R9OvaIVZeqlc1JTjBiUlMSVPmaRUlAyrXwOfw8uF4SlU3SXdqVxKc+MW6cIEcfy5hKcpVcLv7S53oOR8cpqX1MV/IJ8moMPV/583q+1fjmxK7uq45Hqe/Nt09oc4gyn1DqBHTX2iyf22tvrK9jZVrDMaFf2MecBKw21rwBf+PE4JF8Xx22Eobtw7jNkpCUkiR1UqIy/2LXKjuSm+Kn0vrf8kvi99DiP667VjLcuqbR0bFXrLpUrUxO8ulgOaUrCU75XNfPmK+PEsK6zzoparDqY+svJa+5/eFxSpbEbSlifCNfsX6xT/PtxKM13tW1wXwVgo/DyCS56n+FOtZtjJsJtfC91sYoVtoajgm+YCfNjTg/OEiQD/F9ddhOSvSvu+sko05M9iQqst/2WGaKbptl0EbqunHtb/oG5Xto8R/X3d53kI069oxVl6qVxckmuSqJUE5CNglzZnR9WzoJ4cTaVztBLie2sjSTpnBFzOn4OCW5j1KXE7NyUjn0lWO6mt883vX4m+P1kCDPlFgsY7SvzX0T5H1rOCa0hZ3M/6PLsrn/TQnCI/i+OizJwfpBa3oNYa5bfJRL4/d4lzZzQjAnIp2k4xD9sZ3b7+P4Hlr813VX6kufo+R+5M8/Vl2qVmMnS7KzLTnh2pzSZfZen+knQSlJ2ibI6/qJPQnj4XFKSpxK4lWNceSrPn1dJbPV+Fu+9sxXIfi4C3k84ReEfWtzPEFu1o/ivpPgC/YzP4g25e9IEr6a76vD5cHbKs2H9ZxQ9O1X+mqecGn93leDyy9/spRfBJVxtDMV93wPLf7ruqvGWso85jLOZUwjf96x6lK1GjrpJBglKeknOSHBsV6vyfWz/21CXCd8dRJWTizb46vbHx2npIx5SexK7NIpsu4rjb+XwNZt677qpHLb19kJchi/1Ihcj31rU8+lbl/m3tNGJ1aduO8l9AtHWE4sYgkbcz5Z/i4nEp74vjosD+LwoF0nD5oOVg/3kJ2U5GXJVJb65kN86fd9Phl8z5q8/y9p62REjEdJukiQz+Qf112mX1/GuR7TyJ9nrLpUrXQn28R0Zj7xzIlMdQJakiHr9VjmypLUvF5fY/+pzNUB2T4mP2WsubxObaf/2hLkiUPjlJTETSTI9TXLnFeln/BufTX61ebbIfg6RhX/qSxh2rM2xXaZTzNB7mrDEqupNNdwTGgL8Gi+rw5lovKVPKrfv5/voUV0969h1aVq5VPcjSTnL6ebsB9M5I7if7N7rDa+b2ICfxPfV4ckKn8b30OL6O5fw6pL1cqnuP+1BHl7ajplzHFtSJBrSJABvq8OSVT+Nr6HFtHdv4ZVl6qVT3H/eyfI85xl+eLkOOBTDxISZAB0CF5Ai+ARqy5VK8QNEvSgQ3zAA+gQvIAWwSNWXapWiBsk6EGH+IAH0CF4AS2CR6y6VK0QN0jQgw7xAQ+gQ/ACWgSPWHWpWiFukKAHHeIDHkCH4AW0CB6x6lK1QtwgQQ86xAc8gA7BC2gRPGLVpWqFuEHyUD2Uv/3s+K+XcL+AB9AheAEtgkesulStEDdIvkQP1b9sN/8T1STIACbQIXgBLYJHrLpUrRA3SE7XwyYJDv9IyvifwPYC9wt4AB2CF9AieMSqS9UKcYPkdD2o/0Jg9Y+AFFtRlmbVP6zyRafOoS+AR4MOwQtoETxi1aVqhbhBcroe5OsVm6S296/klWS4/FPclV3x+QX/8iD3C3gAHYIX0CJ4xKpL1Qpxg+RL9FC9g7wkxO0E+c/bU7Sb8998sjy/uzxZvz0FXyWBPo8viQ/AAHQIXkCL4BGrLlUrxA2Sr9XD8ppESnZbCfL2WkmYt4UEGf4N0CF4AS2CR6y6VK0QN0i+XA+rd5L7yfDq7YnNCfLXwf0CHkCH4AW0CB6x6lK1QtwgOVsPIeGVie06Aa4S5O6ffWudNH8N3C/gAXQIXkCL4BGrLlUrxA2S8/VQ3hdeynI6vE58W69SbP5msiyrY+ZzCP0APBp0CF5Ai+ARqy5VK8QNEvSgQ3zAA+gQvIAWwSNWXapWiBsk6EGH+IAH0CF4AS2CR6y6VK0QN0jQgw7xAQ+gQ/ACWgSPWHWpWiFukKAHHeIDHkCH4AW0CB6x6lK1QtwgQQ86xAc8gA7BC2gRPGLVpWqFuEGCHnSID3gAHYIX0CJ4xKpL1QpxgwQ96BAf8AA6BC+gRfCIVZeqFeIGCXrQIT7gAXQIXkCL4BGrLlUrxA0S9KBDfMAD6BC8gBbBI1ZdqlaIGyToQYf4gAfQIXgBLYJHrLpUrRA3SNCDDvEBD6BD8AJaBI9YdalaIW6QoAcd4gMeQIfgBbQIHrHqUrVC3CBBDzrEBzyADsELaBE8YtWlahWcUCgUCoVCoVAof0uxMEyQAQroQYf4gAfQIXgBLYJHrLpUrRA3SNCDDvEBD6BD8AJaBI9YdalaIW6QoAcd4gMeQIfgBbQIHrHqUrVC3Cfx+3L9+fPnury8Xz9z9cLn9f3l5/XyO3/sYfZ3G+hBh/iAB9AheAEtgkesulStzhf3n+vbU3hh+un69idfCny8xr5Lef3I12v+vF2fhF0sT2+T16P8vl7qRHNVXq7vd8g6P99frj+HWW9KjkO/I1Obv9sJ8X0cH9fXuMaVViKlLpTX6dNjOBafX9fLjx/XH7Fcpk8aHdvP9+vzfD2X5/AL0qSh5+p6Ls/vvw7W5Rvg10Vcf17ui0NjKY3L/IS/GaVuNRbpb6I3zkB3rJluW8NctDFFRute+mjFQuc+9+kOXQ7m+vn+LOrFfHrxPbwuE+a6H9dLmdSov0hnPZr93UEfvbHO6ProxjyitNXid4DznhnH9bmKpTpf657TipNFL9W6N30atDRxeL27dYP4DuavjydgiU+r3X2w6lK1Ok/ciT9vT1NC+zQluTLpSclOSYqjTS/piQlyK2EaE/12Mu+YcMpkeNpAX6ZE9WXHav2+9BPbUKf5Sv1PyfHlEhP2Ue478ncvztZDj1kDnfX+eJ0S47yW8uev5kh8fl2mjSDv2PLnFl3b+IA3biaarbUu/iweNHFTy5vowbGkDXXy0Wiv1U2dTxu52MDjWIrNVCcSnRgzmfhoY411nTm2WPnSxpQYrXuc8/Nzf3wK97hPR+Nb0Oea5lEnmwFlbbR1GbbrrVkY51I3ayp9GMa5uR57NLJLH8pYM5o++jFP9NsqsT3IWc+MffrU1r29frNdUxvjOLVjrK37jthXYzq+3v06Nb4D3Y/GE2j2O/B7T6y6VK3OTYhCIjwlOx910pOvl8/xNPl+CXJKtv67Pg0ahaSznMrKn3Wm34qGp77J5uUlJ8GhVK9DfL6/X3PPhgR57O9enKsHA8313qGXk9kfn7Bhig1C3RAU2+Ym3kZ7mJjrNuMUY7t1LFp7k+8wFrHJSupxa/60OTbQYrcdk7KWkVz/yx5Lye336Wh8GnKulR8N2ccODa3aqWumzGnYX25br4fa35qv00d/DAmtbcWm3/2c88wYxUei2FrWz6LFXesjCXbGvUqw1lJjzCu0sfTqKp/1WNS4jcYT6PRrWY87YdWlanVmQhQS1ZikNpKeeAoYk5z1afKG2LZ8tZ5Kz7YkxubTxenGCKfGl0t4v/eSE9YO2db0Cka2XU58c1LdTGoNCfIuf7dxph5MtBLk+lozif4adsen3nzrzxLNNv48bZqiNDfdPf4ldV3cyKRt2Mhyn7eO5egYC12b6b4IX+nJwWhj1eZYMxpXXT/4HE5X4tenI78dbr5PR+PVkLb552f5FXE7gOu1ie1Em6k0m9XtBmsWE4v4AK7WctBfdz2sGqnb1TTqu2OdUPWRr/VibtdW4345wCnPjHrsg7l0Y2lZvwNxMse4W6/EvjP3I+vdrRt9Hu7//fEEuv3u2XNvxKpL1eq0hCgmMfmUr5PQpCR5KjveKU5J8NZXvH7g3eTyqsM4QR0k0COij1ZybTlBbtD1dxun6cEKCbLJNmxA640mEa93vvraW5ceOqWkDbG9n+8cy54YNFifrkzETTeP0/K1n/C/a46K782YtLWMP+dTFMN8W9x8n2rjG7Ca6+iBZ1ybjYaUdqM1m+ut/Q3Ww6KR3frINMc6GM/UaBl7pE5eBtracb9YOOWZUY+9NxdBb92H67c3TpYYZzbrboj9RktH13tYp3ye6MZNG09A63diuB53wqpL1eqshCgkv/MrDpuEJp0al/rlNNlC/8R59wnyRHy1YkpQh69XTAttPkFuEhLhOybIXX+3cZYezJAg22zrTSnSulY4WlfY216x3xODilEiskm0NhyJg9amMyZlLcMDIp6uVNf3cPN9qoxPo/3wzg/DzCYpyOhr04+xvV36ucQ2PYjXY1tY2u1bj9Y4+2MPNPWhjHU4HiXm++Yyiq2NU54Zu/R5bN1ndsbJGuP2ui+0Y98Y38H1Vsc5+rxBjGtwz1vjk2jM905YdalanZMQpSQ2+K5LTIo375AOXrNYMbYtifLoHeQpO04J7++U/NqS1M/xO8jRb3XiPAnl8AnyLn+3EeL2UJrJb1hzce1ffAd5w3Zj0Tbko3UzdxxL0G5301Tq0gOlN4bCaMNV6jtzHMauOabeWqb+lxOUpcwPFQO336e98fVpznWzXumr4/ZctLU5WCfHvZmDxWf6r3k9GnE6pI/uWA3j6cb8fd9cIlqMbJzzzAjjMupzz7q3/Gj70cyO9Zno7wuS7TibWjq03iMt7IhvQNar97wtPjOjfm/AqkvV6ksSojrpiQlO70Qw/1m4nAGH02WZDKfk15YcRdtuJp0S0/Jeb3rVYt9rFOH0uZ3Yrn1HAYWkumlsOUHe4+82vkQPGs0EOWli9Y2D7bepu7M/PnLzCPvBtFnMO2Kqqz+3bMPPm410tbGkjam5CR2uK+RN7y5jmdAeSJ26GItWEhLs5WDihru0H4+1sJ7jQn8u3TFFtHUXaLFQuP0+3aNLba5rP6v5KGujrstgTReqNavtxFjU/iTqerQ0clAfylhXNK8rMZe0rodrptjaOeeZsUOf1lg212/iljg12nbXfeizp6Ub1ruwqdPiW1PHzTiegFbXW487YdWlavUlCVEj6Zlfh8hlyXfWCXJqu9jd9jeQF+KrFav/yW1a9LsmnSmpnf/qRNdvK0FOY1kS4oDV322EGD+E+EuTWOdY6l+iyvXHnB4HQv+7iZvEtBHEIh/KaaNZbRA929X1qVQbcD/xO1qXN69SumOcinUs8YEg2sWSN0+tru6vlNhvjuF8vdqM1bEqc8zoiZRoW4r0v7Jpxz/Z9B4gfQ7psKY7vkqXo7lW9UsYlbWpfa7WRVtTfc3Sei31c7XanyDa7e3vmD66Y5VsxpOp/NvbDu6XA9xFiy1Wc1T0OdGPpbJ+2p5jjVMd42pd5hLXXffZ1VLg8HpnWnUrn3W/g73RMp7Apt/xnnsvrLpUrU4TN3xL0IMO8QEPoEPwAloEj1h1qVohbpCgBx3iAx5Ah+AFtAgesepStULcIEEPOsQHPIAOwQtoETxi1aVqhbhBgh50iA94AB2CF9AieMSqS9UKcYMEPegQH/AAOgQvoEXwiFWXqhXiBgl60CE+4AF0CF5Ai+ARqy5VK8QNEvSgQ3zAA+gQvIAWwSNWXapWiBsk6EGH+IAH0CF4AS2CR6y6VK0QN0jQgw7xAQ+gQ/ACWgSPWHWpWiFukKAHHeIDHkCH4AW0CB6x6lK1QtwgQQ86xAc8gA7BC2gRPGLVpWqFuEGCHnSID3gAHYIX0CJ4xKpL1QpxgwQ96BAf8AA6BC+gRfCIVZeqFeIGCXrQIT7gAXQIXkCL4BGrLlUrxA0S9KBDfMAD6BC8gBbBI1ZdqlaIGyToQYf4gAfQIXgBLYJHrLpUrRA3SNCDDvEBD6BD8AJaBI9YdalaIW6QoAcd4gMeQIfgBbQIHrHqUrVC3CBBDzrEBzyADsELaBE8YtWlaoW4QYIedIgPeAAdghfQInjEqkvVCnGDBD3oEB/wADoEL6BF8IhVl6oV4gYJetAhPuABdAheQIvgEasuVSvEDRL0oEN8wAPoELyAFsEjVl2qVogbJOhBh/iAB9AheAEtgkesulStEDdI0IMO8QEPoEPwAloEj1h1qVohbpCgBx3iAx5Ah+AFtAgesepStULcIEEPOsQHPIAOwQtoETxi1aVqhbhBgh50iA94AB2CF9AieMSqS9UKcYMEPegQH/AAOgQvoEXwiFWXqhXiBgl60CE+4AF0CF5Ai+ARqy5Vq+CEQqFQKBQKhUL5W4qFYYIMUEAPOsQHPIAOwQtoETxi1aVqhbhBgh50iA94AB2CF9AieMSqS9UKcYMEPegQH/AAOgQvoEXwiFWXqhXiPonfl+vPnz/X5eX9+pmrJ4PrpVv3ONCDDvEBD6BD8AJaBI9Ydala+RL3n+vbU3i5+un69idfCny8xnGW8vqRrx+iSkw35eX6fodM9fP95frz8jt/qkljeBEd/b5MfXftv47H6uHj+hrXuFr/SKkL5XX69BiOxefX9fLjx/VHLJfpk4ZmW+qeGxrV6gKf1/fnVr3S7tdluh7qUnleGSjjXLXb+v18f27Xa+2qsVyqIHZ9RiwxbdUF9Lh2+/18vz7P13N5lr8E635HnHOfjmJR09GUeR3PrCtj25ZZx6t2labuMpZap4P4an6Ha6PoqRrT+j6+nfOeGTv02IydQQNaHzvWOfkb9HfLnmAeS9324PwCzTkWRmtj7ff+eixYdalanSfu/fx5e7r+9/R0fVolSCkxKklxtDEmSNG2k03HBFYmw5N4X6qkdURIans5bajr+oqny5cpTRbE/qtrD+BRepjX9c9btf6Jj9cpMc5rKX/+ao7E59dl2gjyk1L+3KJnmxKxaaOJm+x6M9PqCtHm+XlVr7cLG5zY2OKmttj05zS1E5t+rBOf0zha35Zo7dJmW7qYx50+Kj4T/bHqdXp8Bv2O1mKwXiPOuE+1WLRI819rKs1bJIZRN3mtvrquJtqWsSqaOtyfrlM9vvp9o7XV9RTGtIxhajzZHtNcj7OeGXq8BIc1oPWhrceOmMr+muuTGK6hNpZuXf7cmt8wZvocu34z/fodsbsRqy5Vq0clRFtCIjwlRh91gpSvl8/xNFlPkFOy9d/1aXsMuUKe2tpPcKffEl/SaXPfPNm8vIQkPNkOX6FoJc0P4OF6aCbI+zVwFvvjEzYEsQFom7fFVtlk+3XZ769OveZzJvgoG+qOOa3qqnYaWrtdPne07c2j99DS+rXE1BT3Nve/T42xmMn2taY27YTfr66r2D6ohZ30c7g/xada1+BI29338X0455mxI16buqqtwKyBGq0u+mnHdNXfvfYE8ziV+W189GOWkHMcxW1UL5F+74tVl6rVwxOiTEhqY0LbSJDiiWFMiNanyTUlMTafLk5iDKfGl4shOc22plcwsu1ygpyT6m6SvH3l4lE8XA+tBLm+1jll/gp2x6fe8LQN0GK7p30mnE4sX/E12mo+C9Kmtu+2z185Vg+IZ/k1ZHNnrNpNxAdN3GSrDXXkUxurVidpXc/X9H5F3VQ2U+31Z+Du92k9lsHYupqKD0PZTqzXV9dJGvPpauqG/kY6ndup8W3fN8O2qs+MxWYnpzwzrHMOHNWAuY/tfrSi167pP+0Fx/cEbSw7dGONWUG21fxaPku0uhux6lK1enhCFIgJTz4R7CQ/KUmeytPbtZUXxeS4U6eRXrXQToMnpkW8+fWH6KOVXOd3ovmf9BIkyLrtnvaBeC3/9t5rq/nMqCch9ee4+eaHgPi6b7gp99plUvKx06c21tE8Cq3rOx8w6SvUykevPwN3v0+tsQjEur6m5nWKJf0SUeLy1XWFGH+rpiZu6a/p0xLfnv4tbQO964I4tjo4N3LKM8M658xoTQIbDYz6GOxHhV5Me5or7NoTtLEc1I0lZoXVHEdxG30WnKHHglWXqtXDE6KJkPzOr0Nskp90alzql9PkLbtPkCfiqxUhQR29XjEtsvkEuUlIhKu2xafp1Y6v4eF6IEHWbfe0nwgb0Pw/QfTaaj4ndj9YBKuHQNzIc2KVUR8us8+UfJZ5pI09+xn51MZqnUfr+o65JBoJdK8/A3e/T62xmDBpakb7xeGr6vrXmpraYO1P8bkjvoGV/q1tLT6VhO0opzwzdsZrTX+9V9d29LHejxb6MdU0UzCMqUFvLIFDuon0x7uZ48ivsd9+7O6DVZeq1cMTopwAh3HUJSbFm/dN9dcsAtZ3kNN7v1PS+jslqrY89XP8DnL3f8ITCXL+M3AeXquQhLg9lGbyyzvIM53NJrKpS5veckqwlDnBCSg+04Zbj3fvnPLGu+knfSW4GsuMaLfxv8enNlbjPFrx2TWXgBhzQYn7iPvfp8ZY5HkMNVXQtPFFdc0H8causT4Fa3+qT2t8CwfaKnpq38f34Zxnxt54CRq27WRsTx9yPRJaTNv91Wx9amu40Gg3I+t2zK9T157jyO+43zP1WLDqUrV6eEJUUydIMRk6dnoYE+VuJr1+7ze9arHvNYr+X7Go3ynOSXUxnm6C9TvKfni4Hprrm/783+pbhB3fEtyT/fFZJ07rU8ZUV39u22a0DXS0ufbqO9dj/81NXhln8CXHHDfH4nvdbtWv1m7lY2I1XsVnRIupId6Bjc+A3m/wJV01HwhNvzbuf5+O42SPTSE9rJvtvqwuXZvXqaBqSrKjvx063Wgt2MrPyn2zT6fZ3sFJ3T4O6nGPBrQ+1PXItt2YtvsLbaRL856gjeUeumnGLNvv3f8jen3f732x6lK1enhCVNNIkOZXJ3K5R24UX61Yvfc7LapMYm8mv1tcivBb3nveln/4r1jEX4SWNU6l/sWoXH/M6XEg9L+buOlNm0IsckNMG8lqc+nZxo2vXC8lb4RanaTefLV2q3GIUja20Zzmumocld9l6nq79DBptZvo+sx0xzqh1Y3iqvVb1a0eCNb1UjikwxHdWDR0Woht5Njzw7aUVZuvrgvD659U9TV1a39L/apa09qu+2aHTmsdlnLHBOUULQbMejyugWEfc13/vp9Ljmm3v7qdeU/QtHFUN3rMRnPs+8306kd+74hVl6rVaeKGbwl60CE+4AF0CF5Ai+ARqy5VK8QNEvSgQ3zAA+gQvIAWwSNWXapWiBsk6EGH+IAH0CF4AS2CR6y6VK0QN0jQgw7xAQ+gQ/ACWgSPWHWpWiFukKAHHeIDHkCH4AW0CB6x6lK1QtwgQQ86xAc8gA7BC2gRPGLVpWqFuEGCHnSID3gAHYIX0CJ4xKpL1QpxgwQ96BAf8AA6BC+gRfCIVZeqFeIGCXrQIT7gAXQIXkCL4BGrLlUrxA0S9KBDfMAD6BC8gBbBI1ZdqlaIGyToQYf4gAfQIXgBLYJHrLpUrRA3SNCDDvEBD6BD8AJaBI9YdalaIW6QoAcd4gMeQIfgBbQIHrHqUrVC3CBBDzrEBzyADsELaBE8YtWlaoW4QYIedIgPeAAdghfQInjEqkvVCnGDBD3oEB/wADoEL6BF8IhVl6oV4gYJetAhPuABdAheQIvgEasuVSvEDRL0oEN8wAPoELyAFsEjVl2qVogbJOhBh/iAB9AheAEtgkesulStEDdI0IMO8QEPoEPwAloEj1h1qVohbpCgBx3iAx5Ah+AFtAgesepStULcIEEPOsQHPIAOwQtoETxi1aVqhbhBgh50iA94AB2CF9AieMSqS9UKcYMEPegQH/AAOgQvoEXwiFWXqhXiBgl60CE+4AF0CF5Ai+ARqy5VK8QNEvSgQ3zAA+gQvIAWwSNWXapWiBsk6EGH+IAH0CF4AS2CR6y6VK0QN0jQgw7xAQ+gQ/ACWgSPWHWpWiFukKAHHeIDHkCH4AW0CB6x6lK1QtwgQQ86xAc8gA7BC2gRPGLVpWqFuEGCHnSID3gAHYIX0CJ4xKpL1So4oVAoFAqFQqFQ/pZiYZggAxTQgw7xAQ+gQ/ACWgSPWHWpWiFukKAHHeIDHkCH4AW0CB6x6lK1QtwgQQ86xAc8gA7BC2gRPGLVpWqFuL+A35frz58/1+Xl/fqZqxc+r+8vP6+X3/ljl9/Xi/D18r71dBT0oEN8wAPoELyAFsEjVl2qVvcX95/r21N4Qfrp+vYnXwp8vMa+Snn9yNdbqLYf19d4vfJ/iHWiuS0v13vknp/vL9efw6w3JcehX900j3k2Sp/vlSSHeD8OfW3/vD3NmrjP+u/n9vj8ul5+/Lj+iOUyfdLQbJW6X5d8PZVnqY1V3fNG35/vz9v6z/fr83wtl+fwC96k2efqei5zn9VYLuuB5jlsx5Eo/qt61WdnDgUtNmq8J7R+B2Na1/fma+ec+3SPNgOW9dnOVV2fns9Ir856L5R2Bt2afWo62DOHwrGY2sfb6/c45z0zduhRm6O2XpFbdbVnjz3oMzIaZ2ttO/1193SBOo/gonUfG+6tgd97YdWlanVvccck5unp+rRKYFLiUxLdlOi8Tldb9G3nn/+8Vf5txPaNzDwmsDIZnsTzsjPp/H3pJ7ahTvOV+g9J7yUmu2qCHE+jL1NaLGhdO8h5m53OaG1j/dPb9OvXY7k1Pr8u06aQd2j5cwvNtl8XNkSxEcbNqGxCU53YBGM78TluePUmGYibqXEjW9mmzbkMLW2oaWzzz4rvNJ7nqr7vc/7cmkNEi02ORzOmAa1ffUyxXon7Ec64T/X5b+mujzJXfX16PhO9uv64d8S90qHqU9PBoD9tfoF2/divOt5B21s565nRn1NFXLtlTSbjHfdmf03UmEofch9Rx3LQZ6Y1znk+nX2025+y70YG80hjMepo1df5eixYdala3VfcIbmdkpuPOsnJ18vneEKsJcgD250Jckq+/rs+KQ1CEltOZeXPOtNvS8NT32Tz8pKT4FCq1ys+399zcptOg7WuYzJdv54xCfDlTqfdZ212ZpprW2nigdwWn7AJik2p2nTWaLZ7/YiNTqL5lIw2U8F20x+Ms+s7t/1V12s+lTk0CfYlNqOx7ui3NU/JqN7A/e/TnXMo9pv1qdDitEHz2avbMW6lzq7bW/rT5hcY1Wd6fm+MwVHOeWbcIc6x7chPL+Y7+o+2eR+5aSwS4TOS2/a00dxHlf5Ge/qeeQxY31sVagxuw6pL1eqe4g6JaExCG0nOx2v4WjwkuusT4hZDW2OCXBLj1qnxhphkTsnpxXAam21Nr2Bk2+UEOSfVzXeQxwly/wT5L06Q87Wn+OpOLpY1PYGb4lNvStompdne4mcmfxVWNq5s9yy/HlvVietTae53jb7i5hg3wHrDz3TGF04o4ldye3xqc2ghfdf97Ol3YjjPmSruB7n7fWqYv0Rbn4UdGpvQfHbrRp9nlLjv9Glb621/o5gdimlgNP6Z+2iv5pRnhnlOEzHJknXrddHW63ZdTcg6bSxHfcaPA220rmv9xZ9DXJaykoVhHqZ9tjWumXP0WLDqUrW6m7hjEpNPejsJbEp8p2L4qly1NSTIR76SL686qAnqtOAvt77OEH20ElpDgpxtNgn335wgx28R5LXxL1lncVN86s1C2zw02x1+4sNBbkBx48ubmvxqa/CQkYTNuv76LxCvN74uSw+oqr9Ca+zxWniglZ+3fTV97phDYBUbY0y1uajz7MX9IHe/T43zj8Q6ZX2OaEzzOaxTPhvivtHtyOdEd617/UUfSsxG9do8avv6syEGt3DKM2M0p4p5PWJJydt622vMP/o8qCtB9C06647lqM9op2gj0Lq+o7/Wnt6dh3YfVzSfCSfrsWDVpWp1L3GHhHZ+hWGT5KSEptQvJ8QtDLaGBDmw6wR5Ir5aMSWfw9crJqGZT5CbhCT3aIIcSHbplY3gJ3z+3u8gz3QT5LUGoi4ekCHfFJ8dG5Zqa/TTS1gLq00xblp5E87UG/9Ca0PsX4snH+FT3HDXfbTGHuxKm2294nPHHPYnRdpcDPMUtB5Ge7n7fTqc/4K+PmusGtN8qv3tGHc77g3dqj7tay37G8VsVC/ZzEMd75p7aK/mlGfGjjltkWvaX6976CrGU03yxFgO+jRpo3Xd2F+icR+sEPXmfXbkM8+1O6bbsOpStbqPuFNSG3zVJSa6mwRHOQG02BoT5ILlHeT5NYXfKfkdJ6mBcnqr2LdeiZiEevwEuUHoo/nKxn5CnB5Ka20319JfSlHX8yRui0/YMMRm0NhoFjTbsZ+08fR8F8QGttk809df88a8YrvxNR8Um3Ft2237TTbLycVS4lg0n8Y5tGMT/Cgx1fq1zHPFqH7M/e/Twfxn0ti767NBzLW7Pu+KT60uOLKOO7CNe1O3ms9da13q0n/1OWj1NXWf4fPxGNzKOc+MPXOqMK1X+m8/5uP+TXvsqt0Rn6NxZjb3VmDc30Lqp6sL2XbPPqv+8hAY9HsDVl2qVqeIu05o6q/IV/X5z8KVDFi1zbSuGYiJcjMrT4lpeW0hvWqx70S2/1cs1r6jmEJS3TQ2JMiTONfJ9cGkusM5m90OmmtbJcQH1/8e3Baf9Uay/q071dWfNdt2Xf7c2pjCxiZ3orjplY1u7VNugsGfbNbbxOsNcu1/orWJt65J6nrVZ38OhW5sBjFV+x3NM3zWfB3g/vfpWG+reBR2zXW8PpHe9cCmThm3OpZAR7eaT22th/1ltPkF6vqh31ticDvnPDOUOeW6ph7zmprWS7K5rvWfPxuTv3rcN/k0jz/Q7y/8LLqemmvJvj6Pdt+deyvYyo5P0GPBqkvV6hRxNxKY+XWHXJY8tUqQJ7q2MXlerqdye6IUX61YncBOAugmsUdISWx6JULz20p201hWfyYunkov/u42zIkQ04cwWtuoqaWu+XvOFxD6vom4mUybTSxyQ0qbjtww+7YTvbrVdVHixpv7mK9XG1PVdtkPK5/VJq5trqmu4TNujMJnLLaNv+sz0JtDQI1NXb+dj9avOqZR3A9wsw5bdOff0GZhsz4HNSbZ+BS06kbjnuvW7TTd9n2WdovfZQ7GddbmF9jUG/wejME9OEWLgdGc5sDnBK6USlT6vZlprUmv/9V1UeI+oo/lmE9BPc7RPmrtr+5n1zy2Me3fW+frsWDVpWp1mrjhW4IedIgPeAAdghfQInjEqkvVCnGDBD3oEB/wADoEL6BF8IhVl6oV4gYJetAhPuABdAheQIvgEasuVSvEDRL0oEN8wAPoELyAFsEjVl2qVogbJOhBh/iAB9AheAEtgkesulStEDdI0IMO8QEPoEPwAloEj1h1qVohbpCgBx3iAx5Ah+AFtAgesepStULcIEEPOsQHPIAOwQtoETxi1aVqhbhBgh50iA94AB2CF9AieMSqS9UKcYMEPegQH/AAOgQvoEXwiFWXqhXiBgl60CE+4AF0CF5Ai+ARqy5VK8QNEvSgQ3zAA+gQvIAWwSNWXapWiBsk6EGH+IAH0CF4AS2CR6y6VK0QN0jQgw7xAQ+gQ/ACWgSPWHWpWiFukKAHHeIDHkCH4AW0CB6x6lK1QtwgQQ86xAc8gA7BC2gRPGLVpWqFuEGCHnSID3gAHYIX0CJ4xKpL1QpxgwQ96BAf8AA6BC+gRfCIVZeqFeIGCXrQIT7gAXQIXkCL4BGrLlUrxA0S9KBDfMAD6BC8gBbBI1ZdqlaIGyToQYf4gAfQIXgBLYJHrLpUrRA3SNCDDvEBD6BD8AJaBI9YdalaIW6QoAcd4gMeQIfgBbQIHrHqUrVC3CBBDzrEBzyADsELaBE8YtWlaoW4QYIedIgPeAAdghfQInjEqkvVCnGDBD3oEB/wADoEL6BF8IhVl6oV4gYJetAhPuABdAheQIvgEasuVSvEDRL0oEN8wAPoELyAFsEjVl2qVogbJOhBh/iAB9AheAEtgkesulStEDdI0IMO8QEPoEPwAloEj1h1qVohbpCgBx3iAx5Ah+AFtAgesepStQpOKBQKhUKhUCiUv6VYGCbIAAX0oEN8wAPoELyAFsEjVl2qVogbJOhBh/iAB9AheAEtgkesulStEDdI0IMO8QEPoEPwAloEj1h1qVoh7hP4fbn+/PlzXV7er5+5euHz+v7y83r5nT/2GPr7fb3IuqHDPuhBh/iAB9AheAEtgkesulStbhf3n+vbU3gh+un69idfCny8Rt+lvH7k611sfp5WlXupEslNebm+b7PY3Xy+vxiS1JQch35Hprq/7GeuT59fDk4kxPhxfFxf4zpXGsj8eXsSWmjbnM2x+Py6Xn78uP6I5TJ90tBsS91zQ6daXWDSxbOsL5+35Xl2sNdn5tdF+BN1n+/X5/l6Ls/yFz2lv6ZPyxwCrZga26767fltjHc410Anfgbuc5+24tKhFwfzmoayI/Y9DUWsOvlxvWwmtVOzkXvMoTEWrV4dT2C0drq2Pt+fc9u+jZXznhlH9Snm09XnYP0M9283hr11Hfms2q32Gk0rkXq9T9bnhK6hW+7R+2DVpWp1q7hj0vL0dH1aJSwp0SlJcUpsXqerffp+RLuYLNsTo+izkZnHhFMmw5NwX6ZEdU9S+fvST2xDneYr9R+S2ktM2EcJsu4vJf3Shy1Bb3PeZqcza+TPW6WBRNLH2/Rr1GM5Ep9fl2kjyLuA/LlFzzZtRtNDIm6y601HqytEm+fnbn1EtD/uc9oYxaYf51A+j3z1+ovXxEYaN9jOA7PR3hz/TduwyYt+Yr+pfhif3nWBaU063OM+NcdFicNonodiH39ur7ce9/RQLu1m2/Qx0o65otnyee8chmNR6pX5F0Zjas8zkepEYnYjZz0z9sW9E6+mTjpI20G7fgxH69rzGdqJNZb3mOYzo633zKr/G/RZPnc0NNs25zuey72w6lK1uk3cIYGdkpmPOqnJ18vnmNhqCXLPT8068e6Rki39tDkknSWJlD/rTL+VDU99k83LS06CQ6ler/h8f5/S2sA2ud0y8pfHNDvJ9t27ROeszc5MM0Gu9PRA9scnbAhik2g87BYMttom263Lfn9pG3TorvEQutHn7odVy2YThypOgu0c7PFXH8KR4GvZ3CO9OQ3naoxfh9vvU3tctog4qPM8GHvLejf7HfWX6/doduhzYa0f41ha9SNbrW0k1zfnWfu6nXOeGaM5CrR4De/DhdX67dH1CmXcO8aS/JS9ZhSLXL9rfzf6bNZXdT0O3aP3w6pL1eoWcYdENCahjaTm4zV8DR6S4nFSq/lZMagviXHr1HjDtHjh1PhyCe/3XnLC2iHbml7ByLZLgpoT2OY7yIYE2egvJvlxjKOEW+eczW4HrTXO157iKzi5WNb4BHbHp94k6s8Si+2e9pnwW/ryteG+tjf5DFoNX/OtHjrTZ1Hm/brQ8hc3UXktbLLGtvW13nh71yUW/4V4vT9XW/z63Hyf1v3uGYe01eZp7aO+blnvjq+YBMQH7rbNcc0KW+scJrSxBLr1o/kPxqTOM197ll+/1wPbySnPjMEcV2jxiu3EXMv1mmZ/nXbZthfD7rpaxxKoxnOzrht1h/U5mP9MZzyjfu+FVZeq1WFxx6Qlnwp3EteUJE9F+2rc4KcQ/XUSoyNfwZdXHcYJ6iCBHhF9tJJrywlyg5W/5EOeGNtPxLecstntoaWBzas1tm8SzmB3fOpNorNpRCy2e9oH4rWwGZWf223DJtv8yuyIz/jAyhun8lVu7LPpezvGtKmWkjbnemNtzqH21/Hfnb8gjmHbadNfzWqusc14TTRuvk+NcWnRjENmO89xH63YD9dbGe/cVvqM9gc0e8McAs2xCHr16vy1McWfR/OU125PUk55ZmhzbDDUS2alT0Fv/QqrdoYYjtY90BtLILavJtD0OVrvzF31adWQMh5LfG7FqkvV6qi4Q7I6v8KwSWpSAlPql9PkLbqfBUsCvOsEeWI+dR0lk9NCm0+Qm4Qk9o4JsvQX/sJFfTodx3tsrKdsdnvoJshr/Wi/LJ3J7vjUm4SyaZhs97SfCBtRPF0IdNsqD8nDPhPaQ6DZ78BfojVe4ybd9K/MP9N9gJrGG1j62BO/Hjffp6a4bOnGYUbE0tTHOPZNG8VXiW16CKfk4bBmD8+hP5bEqF5S+VfGNJxnTG7W/cS+9QVQOeWZYYp7j9Z6FPprpYdA2KgxTHaH1jWzvcf6PofrHWn1MxqnUm/VUHM8o37vh1WXqtUxcacEOLStS0x2NwlN78Rv4CeTEt92gt2iJMrSx4b4p9OmJPJ3Sn5tSWp+vUGzj36rE+dJKIdPkEf+/oUEeXMt/cUTdX1PYn98woYgNonG5rJgsO1ughOburQZxd/UqzJvqhNq0nPQ50Kyr/fORKNOm1+hEZf+HMYxHSV9KWHqrJllvJEy173xa3P7fTqOS40ahxm5prfHPmK9DzZ2R2N+hzl0x1I+DuolTdvWmJIPdZ6buKVXSvZor+acZ8Y47l1U222cTRqU7bQY7lnX3ljqsXd9pv+q6z1xd31aNbTrHs0f74hVl6rVXcRdJzD1V+Kr+vzn3Fqnf43kKJ4UHvzrBTFRbp4yrl9LSK9a7HuNIpw+txPbte8ontX/RCexnCCP/NX1aWztd57HnLPZ7aCVINcJcdPma9gfn/Xmsf5NO9XVn9u2mdamU9DqAs36tEFtNrfCXp/hsxxz3BBTfZiPrGo+DEb95fGu46LNYRRTff7RXnt4dsZrmmtgON82t9+ne3TZj4M+z9tin2it90QrbkJrkV5s6+vhs/S/8nNwDqOxWMfanP9oTJmmz3Xbfr92znlmaHNMdc05V/HS9Rlor5/eTomhsq6jscQ5tvaao7qOnKFPo4Za1826vx2rLlWru4i7kbDMrzvksuSpOxLk+HnxMZcb/9zXNoGcFrybxB4hJa3lf5rr+20lyGksMuEd+6vqDybHgRDfhxB/qarXuq+F5u89X0DoezdxE5g2v1jk5tzY6Hu2cWMp10vJG4tWJ2lsRt3E7bDPPKdWm9XcpiIfBmp/+aFXiozXRHcOhW78B23r8ZYSxj2KjzZXySZ+Ng7psKYbl0qXWhxG8+z2Eap6sVfWexD35HOpq6SS2MRc0Wzg0BzGY+nX63qPKGOa2cwzs2rbidEO7qLFFt051vumEq9qrrU+u+s3aKfFsLuums+6rrIZaSkSfazXuzu/iZFPtV6Z/13u0Ttg1aVqdZq44VuCHnSID3gAHYIX0CJ4xKpL1QpxgwQ96BAf8AA6BC+gRfCIVZeqFeIGCXrQIT7gAXQIXkCL4BGrLlUrxA0S9KBDfMAD6BC8gBbBI1ZdqlaIGyToQYf4gAfQIXgBLYJHrLpUrRA3SNCDDvEBD6BD8AJaBI9YdalaIW6QoAcd4gMeQIfgBbQIHrHqUrVC3CBBDzrEBzyADsELaBE8YtWlaoW4QYIedIgPeAAdghfQInjEqkvVCnGDBD3oEB/wADoEL6BF8IhVl6oV4gYJetAhPuABdAheQIvgEasuVSvEDRL0oEN8wAPoELyAFsEjVl2qVogbJOhBh/iAB9AheAEtgkesulStEDdI0IMO8QEPoEPwAloEj1h1qVohbpCgBx3iAx5Ah+AFtAgesepStULcIEEPOsQHPIAOwQtoETxi1aVqhbhBgh50iA94AB2CF9AieMSqS9UKcYMEPegQH/AAOgQvoEXwiFWXqhXiBgl60CE+4AF0CF5Ai+ARqy5VK8QNEvSgQ3zAA+gQvIAWwSNWXapWiBsk6EGH+IAH0CF4AS2CR6y6VK0QN0jQgw7xAQ+gQ/ACWgSPWHWpWiFukKAHHeIDHkCH4AW0CB6x6lK1QtwgQQ86xAc8gA7BC2gRPGLVpWqFuEGCHnSID3gAHYIX0CJ4xKpL1QpxgwQ96BAf8AA6BC+gRfCIVZeqFeIGCXrQIT7gAXQIXkCL4BGrLlUrxA0S9KBDfMAD6BC8gBbBI1ZdqlaIGyToQYf4gAfQIXgBLYJHrLpUrRA3SNCDDvEBD6BD8AJaBI9YdalaBScUCoVCoVAoFMrfUizw6x0AAAAAgIAEGQAAAABAQIIMAAAAACAgQQYAAAAAEJAgAwAAAAAISJABAAAAAAQkyAAAAAAAAhJkAAAAAAABCTIAAAAAgIAEGQAAAABAQIIMAAAAACAgQQYAAAAAEJAgAwAAAAAISJABAAAAAAQkyAAAAAAAAhJkAAAAAICZ6/V/AVXN8i8+jyEAAAAASUVORK5CYII=)"
   ]
  },
  {
   "cell_type": "markdown",
   "metadata": {
    "colab_type": "text",
    "id": "J7K5CT-2fNrw"
   },
   "source": [
    "**Conclusions:**\n",
    "\n",
    "**The size of the critical region, and consequently the probability of a type\n",
    "I error α, can always be reduced by appropriate selection of the critical\n",
    "values.**\n",
    "\n",
    "**• Type I and type II errors are related. When sample size n is fixed, a decrease in the probability of one type of error always results in an increase\n",
    "in the probability of the other.**\n",
    "\n",
    "**• An increase in sample size will generally reduce both α and β, provided\n",
    "that the critical values are held constant.**\n",
    "\n",
    "**• When the null hypothesis is false, β increases as the true value of the\n",
    "parameter approaches the value hypothesized in the null hypothesis**"
   ]
  },
  {
   "cell_type": "markdown",
   "metadata": {
    "colab_type": "text",
    "id": "dRRdqlEOfODh"
   },
   "source": [
    "-------------------"
   ]
  },
  {
   "cell_type": "markdown",
   "metadata": {
    "colab_type": "text",
    "id": "gV404GkyHxEt"
   },
   "source": [
    "**Problem Statement 8:**\n",
    "\n",
    "**Find the t-score for a sample size of 16 taken from a population with mean 10 when\n",
    "the sample mean is 12 and the sample standard deviation is 1.5.**"
   ]
  },
  {
   "cell_type": "code",
   "execution_count": 7,
   "metadata": {
    "colab": {
     "base_uri": "https://localhost:8080/",
     "height": 34
    },
    "colab_type": "code",
    "id": "vMlzL3O4Hjhx",
    "outputId": "cd6dbe40-0dcd-42a4-e644-8a9283bed548"
   },
   "outputs": [
    {
     "name": "stdout",
     "output_type": "stream",
     "text": [
      "t-score = 5.333333333333333\n"
     ]
    }
   ],
   "source": [
    "n = 16\n",
    "mu = 10\n",
    "xbar = 12\n",
    "s = 1.5\n",
    "se = s/np.sqrt(n)\n",
    "t_score = (xbar - mu)/se\n",
    "print('t-score =',t_score)"
   ]
  },
  {
   "cell_type": "markdown",
   "metadata": {
    "colab_type": "text",
    "id": "nNgCkrE-IbNn"
   },
   "source": [
    "--------"
   ]
  },
  {
   "cell_type": "markdown",
   "metadata": {
    "colab_type": "text",
    "id": "FNYu_bPaIbYh"
   },
   "source": [
    "**Problem Statement 9:**\n",
    "\n",
    "**Find the t-score below which we can expect 99% of sample means will fall if samples\n",
    "of size 16 are taken from a normally distributed population.**"
   ]
  },
  {
   "cell_type": "code",
   "execution_count": 8,
   "metadata": {
    "colab": {
     "base_uri": "https://localhost:8080/",
     "height": 34
    },
    "colab_type": "code",
    "id": "OALOsIRJIR3-",
    "outputId": "2ba6ac9e-6e7e-4dbe-c1fb-c4f0f9994f39"
   },
   "outputs": [
    {
     "data": {
      "text/plain": [
       "-2.946712883338615"
      ]
     },
     "execution_count": 8,
     "metadata": {
      "tags": []
     },
     "output_type": "execute_result"
    }
   ],
   "source": [
    "n = 16\n",
    "cl = 0.99\n",
    "alpha = 1 - cl\n",
    "talpha = stats.t.ppf(alpha/2,n-1)\n",
    "talpha"
   ]
  },
  {
   "cell_type": "markdown",
   "metadata": {
    "colab_type": "text",
    "id": "BPTN_EvjI-uV"
   },
   "source": [
    "t-score is in range -2.946712883338615 < t-score < 2.946712883338615"
   ]
  },
  {
   "cell_type": "markdown",
   "metadata": {
    "colab_type": "text",
    "id": "h-cSfOHQI-5I"
   },
   "source": [
    "-------------------------"
   ]
  },
  {
   "cell_type": "markdown",
   "metadata": {
    "colab_type": "text",
    "id": "l2z-VABnI_Eu"
   },
   "source": [
    "**Problem Statement 10:**\n",
    "\n",
    "**If a random sample of size 25 drawn from a normal population gives a mean of 60\n",
    "and a standard deviation of 4, find the range of t-scores where we can expect to find\n",
    "the middle 95% of all sample means. Compute the probability that (−𝑡0.05 <𝑡<𝑡0.10).**"
   ]
  },
  {
   "cell_type": "code",
   "execution_count": 9,
   "metadata": {
    "colab": {
     "base_uri": "https://localhost:8080/",
     "height": 34
    },
    "colab_type": "code",
    "id": "Ed9svKcOI1mH",
    "outputId": "f5507c44-6539-4ff6-83ae-e934598d4a53"
   },
   "outputs": [
    {
     "data": {
      "text/plain": [
       "(-1.7108820799094275, -1.3178359318596027)"
      ]
     },
     "execution_count": 9,
     "metadata": {
      "tags": []
     },
     "output_type": "execute_result"
    }
   ],
   "source": [
    "n = 25\n",
    "cl1 = 0.95\n",
    "alpha1 = 1 - cl1\n",
    "alpha2 = 0.1\n",
    "talpha1 = stats.t.ppf(alpha1,n-1)\n",
    "talpha2 = stats.t.ppf(alpha2,n-1)\n",
    "talpha1,talpha2"
   ]
  },
  {
   "cell_type": "markdown",
   "metadata": {
    "colab_type": "text",
    "id": "c2cqPOpNKZAJ"
   },
   "source": [
    "-----------------------------------"
   ]
  },
  {
   "cell_type": "markdown",
   "metadata": {
    "colab_type": "text",
    "id": "W6wRXt3SKZY1"
   },
   "source": [
    "**Problem Statement 11:**\n",
    "\n",
    "**Two-tailed test for difference between two population means\n",
    "Is there evidence to conclude that the number of people travelling from Bangalore to\n",
    "Chennai is different from the number of people travelling from Bangalore to Hosur in\n",
    "a week, given the following:**\n",
    "\n",
    "**Population 1: Bangalore to Chennai**\n",
    "\n",
    "**n1 = 1200**\n",
    "\n",
    "**x1 = 452**\n",
    "\n",
    "**s1 = 212**\n",
    "\n",
    "\n",
    "**Population 2: Bangalore to Hosur**\n",
    "\n",
    "**n2 = 800**\n",
    "\n",
    "**x2 = 523**\n",
    "\n",
    "**s2 = 185**"
   ]
  },
  {
   "cell_type": "markdown",
   "metadata": {
    "colab_type": "text",
    "id": "YRceB6WzK9r-"
   },
   "source": [
    "H0 : population mean(Bangalore to Chennai) - population mean(Bangalore to Hosur) = 0\n",
    "\n",
    "H1 : population mean(Bangalore to Chennai) - population mean(Bangalore to Hosur) != 0"
   ]
  },
  {
   "cell_type": "code",
   "execution_count": 10,
   "metadata": {
    "colab": {
     "base_uri": "https://localhost:8080/",
     "height": 68
    },
    "colab_type": "code",
    "id": "X28TcKVbJ_h1",
    "outputId": "40e8a99b-0fb6-4971-8dc9-07ff5fc694a3"
   },
   "outputs": [
    {
     "name": "stdout",
     "output_type": "stream",
     "text": [
      "T-Statistic value = -7.926428526759299\n",
      "T-alpha value = -0.06271465548986041\n",
      "P-value = 3.7154188748777314e-15\n"
     ]
    }
   ],
   "source": [
    "n1 = 1200\n",
    "x1 = 452\n",
    "s1 = 212\n",
    "n2 = 800\n",
    "x2 = 523\n",
    "s2 = 185\n",
    "alpha = 0.95\n",
    "se = np.sqrt((s1**2/n1) + (s2**2/n2))\n",
    "tstat = (x1 - x2)/se\n",
    "talphaby2 = stats.t.ppf(alpha/2,n1+n2-2)\n",
    "print('T-Statistic value =',tstat)\n",
    "print('T-alpha value =',talphaby2)\n",
    "pvalue = stats.t.cdf(tstat,n1+n2-2)*2\n",
    "print('P-value =',pvalue)"
   ]
  },
  {
   "cell_type": "markdown",
   "metadata": {
    "colab_type": "text",
    "id": "TCrfZoP4MBUx"
   },
   "source": [
    "**As the mod(T-Statistic) > mod(T-alpha) and pvalue < 0.05 , we reject the null hypothesis and accept the alternate hypothesis i.e. population mean(Bangalore to Chennai) - population mean(Bangalore to Hosur) != 0. So the number of people travelling from Bangalore to Chennai is different from the number of people travelling from Bangalore to Hosur in a week**"
   ]
  },
  {
   "cell_type": "markdown",
   "metadata": {
    "colab_type": "text",
    "id": "HggcG1f6MBg1"
   },
   "source": [
    "-------"
   ]
  },
  {
   "cell_type": "markdown",
   "metadata": {
    "colab_type": "text",
    "id": "n6Ksw92lMBs5"
   },
   "source": [
    "**Problem Statement 12:**\n",
    "\n",
    "**Is there evidence to conclude that the number of people preferring Duracell battery is\n",
    "different from the number of people preferring Energizer battery, given the following:**\n",
    "\n",
    "**Population 1: Duracell**\n",
    "\n",
    "**n1 = 100**\n",
    "\n",
    "**x1 = 308**\n",
    "\n",
    "**s1 = 84**\n",
    "\n",
    "**Population 2: Energizer**\n",
    "\n",
    "**n2 = 100**\n",
    "\n",
    "**x2 = 254**\n",
    "\n",
    "**s2 = 67**"
   ]
  },
  {
   "cell_type": "markdown",
   "metadata": {
    "colab_type": "text",
    "id": "XAi_ojmFMB5q"
   },
   "source": [
    "H0 : population mean(Duracell Battery) - population mean(Energizer Battery) = 0\n",
    "\n",
    "H1 : population mean(Duracell Battery) - population mean(Energizer Battery) > 0"
   ]
  },
  {
   "cell_type": "code",
   "execution_count": 11,
   "metadata": {
    "colab": {
     "base_uri": "https://localhost:8080/",
     "height": 68
    },
    "colab_type": "code",
    "id": "gZt7iZKnL5WP",
    "outputId": "ebe7b94b-3c34-4b2e-facf-a24d55d10e37"
   },
   "outputs": [
    {
     "name": "stdout",
     "output_type": "stream",
     "text": [
      "T-Statistic value = 5.025702668336442\n",
      "T-alpha value = 1.6525857836172075\n",
      "P-value = 5.592823870574184e-07\n"
     ]
    }
   ],
   "source": [
    "n1 = 100\n",
    "x1 = 308\n",
    "s1 = 84\n",
    "n2 = 100\n",
    "x2 = 254\n",
    "s2 = 67\n",
    "alpha = 0.95\n",
    "se = np.sqrt((s1**2/n1) + (s2**2/n2))\n",
    "tstat = (x1 - x2)/se\n",
    "talphaby2 = stats.t.ppf(alpha,n1+n2-2)\n",
    "print('T-Statistic value =',tstat)\n",
    "print('T-alpha value =',talphaby2)\n",
    "pvalue = stats.t.sf(tstat,n1+n2-2)\n",
    "print('P-value =',pvalue)"
   ]
  },
  {
   "cell_type": "markdown",
   "metadata": {
    "colab_type": "text",
    "id": "KpBqkFqMM_Yt"
   },
   "source": [
    "**As the mod(T-Statistic) > mod(T-alpha) and pvalue < 0.05 , we reject the null hypothesis and accept the alternate hypothesis i.e. population mean(Duracell Battery) - population mean(Energizer Battery) > 0. So the number of people preferring Duracell battery is different from the number of people preferring Energizer battery.**"
   ]
  },
  {
   "cell_type": "markdown",
   "metadata": {
    "colab_type": "text",
    "id": "H0Av4OF3M_mX"
   },
   "source": [
    "-----------------"
   ]
  },
  {
   "cell_type": "markdown",
   "metadata": {
    "colab_type": "text",
    "id": "-_qY9wJ_M_0m"
   },
   "source": [
    "**Problem Statement 13:**\n",
    "\n",
    "**Pooled estimate of the population variance**\n",
    "\n",
    "**Does the data provide sufficient evidence to conclude that average percentage\n",
    "increase in the price of sugar differs when it is sold at two different prices?**\n",
    "\n",
    "**Population 1: Price of sugar = Rs. 27.50**\n",
    "\n",
    "**n1 = 14**\n",
    "\n",
    "**x1 = 0.317%**\n",
    "\n",
    "**s1 = 0.12%**\n",
    "\n",
    "**Population 2: Price of sugar = Rs. 20.00**\n",
    "\n",
    "**n2 = 9**\n",
    "\n",
    "**x2 = 0.21%**\n",
    "\n",
    "**s2 = 0.11%**"
   ]
  },
  {
   "cell_type": "markdown",
   "metadata": {
    "colab_type": "text",
    "id": "7LxTnfefNACy"
   },
   "source": [
    "H0 : population1 mean - population2 mean = 0\n",
    "\n",
    "H1 : population1 mean - population2 mean > 0"
   ]
  },
  {
   "cell_type": "code",
   "execution_count": 12,
   "metadata": {
    "colab": {
     "base_uri": "https://localhost:8080/",
     "height": 34
    },
    "colab_type": "code",
    "id": "UmfNN8J4OG4Z",
    "outputId": "daa6e6f1-c178-4afc-c33c-f3acf14bc259"
   },
   "outputs": [
    {
     "data": {
      "text/plain": [
       "Ttest_relResult(statistic=-4.592887798896382, pvalue=0.1364798873881824)"
      ]
     },
     "execution_count": 12,
     "metadata": {
      "tags": []
     },
     "output_type": "execute_result"
    }
   ],
   "source": [
    "n1 = 14\n",
    "x1 = 0.317\n",
    "s1 = 0.12\n",
    "n2 = 9\n",
    "x2 = 0.21\n",
    "s2 = 0.11\n",
    "stats.ttest_rel([x1,x2],[n1,n2])"
   ]
  },
  {
   "cell_type": "markdown",
   "metadata": {
    "colab_type": "text",
    "id": "-cgXlwaYOgyt"
   },
   "source": [
    "**As pvalue > 0.05 , we fail to reject the null hypothesis i.e. population1 mean - population2 mean = 0. So average percentage increase in the price of sugar does not differ when it is sold at two different prices.**"
   ]
  },
  {
   "cell_type": "markdown",
   "metadata": {
    "colab_type": "text",
    "id": "PavUxrnDOhCC"
   },
   "source": [
    "-----------------"
   ]
  },
  {
   "cell_type": "markdown",
   "metadata": {
    "colab_type": "text",
    "id": "Sevyak3gOhTJ"
   },
   "source": [
    "**Problem Statement 14:**\n",
    "\n",
    "**The manufacturers of compact disk players want to test whether a small price\n",
    "reduction is enough to increase sales of their product. Is there evidence that the\n",
    "small price reduction is enough to increase sales of compact disk players?**\n",
    "\n",
    "**Population 1: Before reduction**\n",
    "\n",
    "**n1 = 15**\n",
    "\n",
    "**x1 = Rs. 6598**\n",
    "\n",
    "**s1 = Rs. 844**\n",
    "\n",
    "**Population 2: After reduction**\n",
    "\n",
    "**n2 = 12**\n",
    "\n",
    "**x2 = RS. 6870**\n",
    "\n",
    "**s2 = Rs. 669**"
   ]
  },
  {
   "cell_type": "markdown",
   "metadata": {
    "colab_type": "text",
    "id": "nh6fBe0-Ohk-"
   },
   "source": [
    "H0 : population1 mean - population2 mean = 0\n",
    "\n",
    "H1 : population1 mean - population2 mean > 0"
   ]
  },
  {
   "cell_type": "code",
   "execution_count": 13,
   "metadata": {
    "colab": {
     "base_uri": "https://localhost:8080/",
     "height": 34
    },
    "colab_type": "code",
    "id": "k9b0tD7rOd_6",
    "outputId": "0c7286d1-2606-44a0-c2d1-8bb9207fc43b"
   },
   "outputs": [
    {
     "data": {
      "text/plain": [
       "Ttest_relResult(statistic=48.876363636363635, pvalue=0.013023288088995388)"
      ]
     },
     "execution_count": 13,
     "metadata": {
      "tags": []
     },
     "output_type": "execute_result"
    }
   ],
   "source": [
    "n1 = 15\n",
    "x1 = 6598\n",
    "s1 = 844\n",
    "n2 = 12\n",
    "x2 = 6870\n",
    "s2 = 669\n",
    "stats.ttest_rel([x1,x2],[n1,n2])"
   ]
  },
  {
   "cell_type": "markdown",
   "metadata": {
    "colab_type": "text",
    "id": "nWGEVlP3QOmt"
   },
   "source": [
    "**As pvalue < 0.05 , We reject the null hypothesis and accept the alternate hypothesis i.e. population1 mean - population2 mean > 0. So the small price reduction is enough to increase sales of compact disk players.**"
   ]
  },
  {
   "cell_type": "markdown",
   "metadata": {
    "colab_type": "text",
    "id": "8AbpIFf8QO4Z"
   },
   "source": [
    "-------------------------"
   ]
  },
  {
   "cell_type": "markdown",
   "metadata": {
    "colab_type": "text",
    "id": "Ekg8tYkQQPGo"
   },
   "source": [
    "**Problem Statement 15:**\n",
    "\n",
    "**Comparisons of two population proportions when the hypothesized difference is zero\n",
    "Carry out a two-tailed test of the equality of banks’ share of the car loan market in\n",
    "1980 and 1995.**\n",
    "\n",
    "**Population 1: 1980**\n",
    "\n",
    "**n1 = 100**\n",
    "\n",
    "**x1 = 53**\n",
    "\n",
    "**𝑝1 = 0.53**\n",
    "\n",
    "**Population 2: 1985**\n",
    "\n",
    "**n2 = 100**\n",
    "\n",
    "**x2 = 43**\n",
    "\n",
    "**𝑝2= 0.43**"
   ]
  },
  {
   "cell_type": "markdown",
   "metadata": {
    "colab_type": "text",
    "id": "Pil1NhAkQPcY"
   },
   "source": [
    "H0 : population1 mean - population2 mean = 0\n",
    "\n",
    "H1 : population1 mean - population2 mean != 0"
   ]
  },
  {
   "cell_type": "code",
   "execution_count": 14,
   "metadata": {
    "colab": {
     "base_uri": "https://localhost:8080/",
     "height": 51
    },
    "colab_type": "code",
    "id": "9hIIFHPEQJAC",
    "outputId": "0001645b-1951-48a6-b619-e8d5385855aa"
   },
   "outputs": [
    {
     "name": "stdout",
     "output_type": "stream",
     "text": [
      "Z-Statistic value = 1.4153462926807452\n",
      "Z-alpha value = 1.6448536269514722\n"
     ]
    }
   ],
   "source": [
    "n1 = 100\n",
    "x1 = 53\n",
    "p1 = 0.53\n",
    "n2 = 100\n",
    "x2 = 43\n",
    "p2= 0.43\n",
    "alpha = 0.95\n",
    "p = (x1+x2)/(n1+n2)\n",
    "q = 1 - p\n",
    "z = (p1 - p2)/np.sqrt(p*q*((1/n1)+(1/n2)))\n",
    "zalpha = stats.norm.ppf(alpha)\n",
    "print('Z-Statistic value =',z)\n",
    "print('Z-alpha value =',zalpha)"
   ]
  },
  {
   "cell_type": "markdown",
   "metadata": {
    "colab_type": "text",
    "id": "l3tSD-CyTWoK"
   },
   "source": [
    "**As Z-Statistic < Z-Alpha , we fail to reject null hypothesis i.e. population1 mean - population2 mean = 0. So the equality of banks’ share of the car loan market in 1980 and 1995 is same.**"
   ]
  },
  {
   "cell_type": "markdown",
   "metadata": {
    "colab_type": "text",
    "id": "85_Buz0MRVGD"
   },
   "source": [
    "-----------------------------"
   ]
  },
  {
   "cell_type": "markdown",
   "metadata": {
    "colab_type": "text",
    "id": "Wn9ZJReLRVaP"
   },
   "source": [
    "**Problem Statement 16:**\n",
    "\n",
    "**Carry out a one-tailed test to determine whether the population proportion of\n",
    "traveler’s check buyers who buy at least $2500 in checks when sweepstakes prizes\n",
    "are offered as at least 10% higher than the proportion of such buyers when no\n",
    "sweepstakes are on.**\n",
    "\n",
    "**Population 1: With sweepstakes**\n",
    "\n",
    "**n1 = 300**\n",
    "\n",
    "**x1 = 120**\n",
    "\n",
    "**𝑝1 = 0.40**\n",
    "\n",
    "**Population 2: No sweepstakes**\n",
    "\n",
    "**n2 = 700**\n",
    "\n",
    "**x2 = 140**\n",
    "\n",
    "**𝑝2= 0.20**"
   ]
  },
  {
   "cell_type": "markdown",
   "metadata": {
    "colab_type": "text",
    "id": "GtfVdrhrRVo0"
   },
   "source": [
    "H0 : population1 mean - population2 mean <= 0.1\n",
    "\n",
    "H1 : population1 mean - population2 mean > 0.1"
   ]
  },
  {
   "cell_type": "code",
   "execution_count": 15,
   "metadata": {
    "colab": {
     "base_uri": "https://localhost:8080/",
     "height": 51
    },
    "colab_type": "code",
    "id": "LWsdjyeORTL5",
    "outputId": "0d00688b-0d95-48ff-cd0c-4f525384a183"
   },
   "outputs": [
    {
     "name": "stdout",
     "output_type": "stream",
     "text": [
      "Z-Statistic value = 3.1180478223116177\n",
      "Z-alpha value = 3.090232306167813\n"
     ]
    }
   ],
   "source": [
    "n1 = 300\n",
    "x1 = 120\n",
    "p1 = 0.40\n",
    "n2 = 700\n",
    "x2 = 140\n",
    "p2= 0.20\n",
    "alpha = 0.001\n",
    "d = 0.1\n",
    "q1 = 1 - p1\n",
    "q2 = 1 - p2\n",
    "z = ((p1 - p2) - d)/np.sqrt(((p1*q1)/n1)+((p2*q2)/n2))\n",
    "zalpha = stats.norm.isf(alpha)\n",
    "print('Z-Statistic value =',z)\n",
    "print('Z-alpha value =',zalpha)"
   ]
  },
  {
   "cell_type": "markdown",
   "metadata": {
    "colab_type": "text",
    "id": "WE9QiNcOU3S4"
   },
   "source": [
    "**As Z-Statistic < Z-Alpha , we reject null hypothesis and accept alternate hypothesis i.e. population1 mean - population2 mean > 0.10. So the population proportion of traveler’s check buyers who buy at least $2500 in checks when sweepstakes prizes are offered as at least 10% higher than the proportion of such buyers when no sweepstakes are on.**"
   ]
  },
  {
   "cell_type": "markdown",
   "metadata": {
    "colab_type": "text",
    "id": "qPA4-dyvU3gc"
   },
   "source": [
    "------------------"
   ]
  },
  {
   "cell_type": "markdown",
   "metadata": {
    "colab_type": "text",
    "id": "MGFqWEfHU30V"
   },
   "source": [
    "**Problem Statement 17:**\n",
    "\n",
    "**A die is thrown 132 times with the following results: Number turned up: 1, 2, 3, 4, 5, 6**\n",
    "\n",
    "**Frequency: 16, 20, 25, 14, 29, 28**\n",
    "\n",
    "**Is the die unbiased? Consider the degrees of freedom as 𝑝 − 1.**"
   ]
  },
  {
   "cell_type": "markdown",
   "metadata": {
    "colab_type": "text",
    "id": "fuiZRYAyU4Hf"
   },
   "source": [
    "H0 : The die is biased.\n",
    "\n",
    "H1 : The die is not biased."
   ]
  },
  {
   "cell_type": "code",
   "execution_count": 16,
   "metadata": {
    "colab": {
     "base_uri": "https://localhost:8080/",
     "height": 34
    },
    "colab_type": "code",
    "id": "EIoWqumCR-_-",
    "outputId": "91516af5-33ff-4da5-dab0-1d80d86c2ba1"
   },
   "outputs": [
    {
     "data": {
      "text/plain": [
       "Power_divergenceResult(statistic=9.0, pvalue=0.1090641579497725)"
      ]
     },
     "execution_count": 16,
     "metadata": {
      "tags": []
     },
     "output_type": "execute_result"
    }
   ],
   "source": [
    "observation = np.array([16, 20, 25, 14, 29, 28])\n",
    "expected = np.ones(6)*22\n",
    "stats.chisquare(observation,expected)"
   ]
  },
  {
   "cell_type": "markdown",
   "metadata": {
    "colab_type": "text",
    "id": "6nrQq513W7nQ"
   },
   "source": [
    "**As pvalue > 0.05 , we fail to reject the null hypothesis i.e. the die is biased.**"
   ]
  },
  {
   "cell_type": "markdown",
   "metadata": {
    "colab_type": "text",
    "id": "lEh5yQKqW72L"
   },
   "source": [
    "----------------"
   ]
  },
  {
   "cell_type": "markdown",
   "metadata": {
    "colab_type": "text",
    "id": "beG55GNUW8HA"
   },
   "source": [
    "**Problem Statement 18:**\n",
    "\n",
    "**In a certain town, there are about one million eligible voters. A simple random\n",
    "sample of 10,000 eligible voters was chosen to study the relationship between\n",
    "gender and participation in the last election. The results are summarized in the\n",
    "following 2X2 (read two by two) contingency table:**"
   ]
  },
  {
   "cell_type": "markdown",
   "metadata": {
    "colab_type": "text",
    "id": "xIQVS0OiW8Yp"
   },
   "source": [
    "![Stats2_problem18.PNG](data:image/png;base64,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)"
   ]
  },
  {
   "cell_type": "markdown",
   "metadata": {
    "colab_type": "text",
    "id": "Y2JdtPA_I4yN"
   },
   "source": [
    "**We would want to check whether being a man or a woman (columns) is independent of\n",
    "having voted in the last election (rows). In other words, is “gender and voting independent”?**"
   ]
  },
  {
   "cell_type": "markdown",
   "metadata": {
    "colab_type": "text",
    "id": "3jlvhnCfMO0-"
   },
   "source": [
    "H0 : gender and voting are independent\n",
    "\n",
    "H1 : gender and voting are not independent"
   ]
  },
  {
   "cell_type": "code",
   "execution_count": 17,
   "metadata": {
    "colab": {
     "base_uri": "https://localhost:8080/",
     "height": 51
    },
    "colab_type": "code",
    "id": "DnpLYCz-Jqvm",
    "outputId": "68dcf5cb-9289-4ac8-a042-5222ff80cc7d"
   },
   "outputs": [
    {
     "data": {
      "text/plain": [
       "array([[2792, 3591],\n",
       "       [1486, 2131]])"
      ]
     },
     "execution_count": 17,
     "metadata": {
      "tags": []
     },
     "output_type": "execute_result"
    }
   ],
   "source": [
    "n = np.array([2792,3591,1486,2131]).reshape(2,2)\n",
    "n"
   ]
  },
  {
   "cell_type": "code",
   "execution_count": 18,
   "metadata": {
    "colab": {
     "base_uri": "https://localhost:8080/",
     "height": 51
    },
    "colab_type": "code",
    "id": "yIPsMBnbKLez",
    "outputId": "2c32420f-72b6-44c3-83d3-c38f16eea6c0"
   },
   "outputs": [
    {
     "data": {
      "text/plain": [
       "(6.552337973968181, 0.01047464310091866, 1, array([[2730.6474, 3652.3526],\n",
       "        [1547.3526, 2069.6474]]))"
      ]
     },
     "execution_count": 18,
     "metadata": {
      "tags": []
     },
     "output_type": "execute_result"
    }
   ],
   "source": [
    "stats.chi2_contingency(n)"
   ]
  },
  {
   "cell_type": "markdown",
   "metadata": {
    "colab_type": "text",
    "id": "gPf0gWoaKhvw"
   },
   "source": [
    "**As P-value is less than 0.05 so we reject null hypothesis and accept the alternate hypothesis i.e. Gender and Voting are dependent.**"
   ]
  },
  {
   "cell_type": "markdown",
   "metadata": {
    "colab_type": "text",
    "id": "UPIpIN1NKh7X"
   },
   "source": [
    "----------------"
   ]
  },
  {
   "cell_type": "markdown",
   "metadata": {
    "colab_type": "text",
    "id": "xbh9jAEQKiHI"
   },
   "source": [
    "**Problem Statement 19:**\n",
    "\n",
    "**A sample of 100 voters are asked which of four candidates they would vote for in an\n",
    "election. The number supporting each candidate is given below:**"
   ]
  },
  {
   "cell_type": "markdown",
   "metadata": {
    "colab_type": "text",
    "id": "1fRwiZykKiSg"
   },
   "source": [
    "![Stats2_problem19.PNG](data:image/png;base64,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)"
   ]
  },
  {
   "cell_type": "markdown",
   "metadata": {
    "colab_type": "text",
    "id": "Rd_QFOFPLZqb"
   },
   "source": [
    "**Do the data suggest that all candidates are equally popular? [Chi-Square = 14.96,\n",
    "with 3 df, 𝑝 < 0.05 ].**"
   ]
  },
  {
   "cell_type": "markdown",
   "metadata": {
    "colab_type": "text",
    "id": "KRzHx2rgNMi_"
   },
   "source": [
    "H0 : all candidates are equally popular\n",
    "\n",
    "H1 : all candidates are not equally popular"
   ]
  },
  {
   "cell_type": "code",
   "execution_count": 19,
   "metadata": {
    "colab": {
     "base_uri": "https://localhost:8080/",
     "height": 34
    },
    "colab_type": "code",
    "id": "o1aR6Ju3KbNq",
    "outputId": "b1db4ee8-a03d-40f7-91d2-6d039d9309f6"
   },
   "outputs": [
    {
     "data": {
      "text/plain": [
       "Power_divergenceResult(statistic=14.959999999999999, pvalue=0.001851152735284203)"
      ]
     },
     "execution_count": 19,
     "metadata": {
      "tags": []
     },
     "output_type": "execute_result"
    }
   ],
   "source": [
    "n = np.array([41,19,24,16])\n",
    "stats.chisquare(n)"
   ]
  },
  {
   "cell_type": "markdown",
   "metadata": {
    "colab_type": "text",
    "id": "TQYF2bw8NUrP"
   },
   "source": [
    "**As P-value is less than 0.05 so we reject null hypothesis and accept the alternate hypothesis i.e. all candidates are not equally popular.**"
   ]
  },
  {
   "cell_type": "markdown",
   "metadata": {
    "colab_type": "text",
    "id": "zpjDyJVHNb1e"
   },
   "source": [
    "--------------"
   ]
  },
  {
   "cell_type": "markdown",
   "metadata": {
    "colab_type": "text",
    "id": "YO3PQIijNcE-"
   },
   "source": [
    "**Problem Statement 20:**\n",
    "\n",
    "**Children of three ages are asked to indicate their preference for three photographs of\n",
    "adults. Do the data suggest that there is a significant relationship between age and\n",
    "photograph preference? What is wrong with this study? [Chi-Square = 29.6, with 4\n",
    "df: 𝑝 < 0.05].**"
   ]
  },
  {
   "cell_type": "markdown",
   "metadata": {
    "colab_type": "text",
    "id": "jsMdsuoFNi67"
   },
   "source": [
    "![Stats2_problem20.PNG](data:image/png;base64,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)"
   ]
  },
  {
   "cell_type": "markdown",
   "metadata": {
    "colab_type": "text",
    "id": "SmS5uP89NcUF"
   },
   "source": [
    "Ho : there is a significant relationship between age and photograph preference\n",
    "\n",
    "H1 : there is no significant relationship between age and photograph preference"
   ]
  },
  {
   "cell_type": "code",
   "execution_count": 20,
   "metadata": {
    "colab": {
     "base_uri": "https://localhost:8080/",
     "height": 68
    },
    "colab_type": "code",
    "id": "dvGqX8HpM8AQ",
    "outputId": "85029cd1-e740-449f-dd88-b3aa9232eaa9"
   },
   "outputs": [
    {
     "data": {
      "text/plain": [
       "(29.603174603174608, 5.894582174262606e-06, 4, array([[12., 18., 30.],\n",
       "        [14., 21., 35.],\n",
       "        [14., 21., 35.]]))"
      ]
     },
     "execution_count": 20,
     "metadata": {
      "tags": []
     },
     "output_type": "execute_result"
    }
   ],
   "source": [
    "table = np.array([18,22,20,2,28,40,20,10,40]).reshape(3,3)\n",
    "stats.chi2_contingency(table)"
   ]
  },
  {
   "cell_type": "markdown",
   "metadata": {
    "colab_type": "text",
    "id": "uuO0mn1sNivQ"
   },
   "source": [
    "**As P-value is less than 0.05 so we reject null hypothesis and accept the alternate hypothesis i.e. there is no significant relationship between age and photograph preference.**"
   ]
  },
  {
   "cell_type": "markdown",
   "metadata": {
    "colab_type": "text",
    "id": "y15F91RKOOWu"
   },
   "source": [
    "---------------"
   ]
  },
  {
   "cell_type": "markdown",
   "metadata": {
    "colab_type": "text",
    "id": "wp1-WwfLOOoH"
   },
   "source": [
    "**Problem Statement 21:**\n",
    "\n",
    "**A study of conformity using the Asch paradigm involved two conditions: one where\n",
    "one confederate supported the true judgement and another where no confederate\n",
    "gave the correct response.**"
   ]
  },
  {
   "cell_type": "markdown",
   "metadata": {
    "colab_type": "text",
    "id": "JBViykKFOO2f"
   },
   "source": [
    "![Stats2_problem21.PNG](data:image/png;base64,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)"
   ]
  },
  {
   "cell_type": "markdown",
   "metadata": {
    "colab_type": "text",
    "id": "P4Fn7nneOV7k"
   },
   "source": [
    "**Is there a significant difference between the \"support\" and \"no support\" conditions in the\n",
    "frequency with which individuals are likely to conform? [Chi-Square = 19.87, with 1 df:\n",
    "𝑝 < 0.05].**"
   ]
  },
  {
   "cell_type": "markdown",
   "metadata": {
    "colab_type": "text",
    "id": "2llOXOjNOWOK"
   },
   "source": [
    "H0 : there is no significant difference between the \"support\" and \"no support\" conditions in the frequency with which individuals are likely to conform\n",
    "\n",
    "H1 : there is a significant difference between the \"support\" and \"no support\" conditions in the frequency with which individuals are likely to conform"
   ]
  },
  {
   "cell_type": "code",
   "execution_count": 21,
   "metadata": {
    "colab": {
     "base_uri": "https://localhost:8080/",
     "height": 51
    },
    "colab_type": "code",
    "id": "QljTDPb-OqIW",
    "outputId": "c0c84ac0-6df7-4395-e541-43b3d80ead1a"
   },
   "outputs": [
    {
     "data": {
      "text/plain": [
       "(18.10344827586207, 2.092221924065813e-05, 1, array([[29., 29.],\n",
       "        [21., 21.]]))"
      ]
     },
     "execution_count": 21,
     "metadata": {
      "tags": []
     },
     "output_type": "execute_result"
    }
   ],
   "source": [
    "table = np.array([18,40,32,10]).reshape(2,2)\n",
    "stats.chi2_contingency(table)"
   ]
  },
  {
   "cell_type": "markdown",
   "metadata": {
    "colab_type": "text",
    "id": "pTlLIMOXO6AH"
   },
   "source": [
    "**As P-value is less than 0.05 so we reject null hypothesis and accept the alternate hypothesis i.e. there is a significant difference between the \"support\" and \"no support\" conditions in the frequency with which individuals are likely to conform.**"
   ]
  },
  {
   "cell_type": "markdown",
   "metadata": {
    "colab_type": "text",
    "id": "XkTIciI3O6PU"
   },
   "source": [
    "-------"
   ]
  },
  {
   "cell_type": "markdown",
   "metadata": {
    "colab_type": "text",
    "id": "9wvrHBKiO6aa"
   },
   "source": [
    "**Problem Statement 22:**\n",
    "\n",
    "**We want to test whether short people differ with respect to their leadership qualities\n",
    "(Genghis Khan, Adolf Hitler and Napoleon were all stature-deprived, and how many midget\n",
    "MP's are there?) The following table shows the frequencies with which 43 short people and\n",
    "52 tall people were categorized as \"leaders\", \"followers\" or as \"unclassifiable\". Is there a\n",
    "relationship between height and leadership qualities?**\n",
    "\n",
    "**[Chi-Square = 10.71, with 2 df: 𝑝 < 0.01].**"
   ]
  },
  {
   "cell_type": "markdown",
   "metadata": {
    "colab_type": "text",
    "id": "C2L7dswiO6nI"
   },
   "source": [
    "![Stats2_problem22.PNG](data:image/png;base64,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)"
   ]
  },
  {
   "cell_type": "markdown",
   "metadata": {
    "colab_type": "text",
    "id": "J7JAqW9gPP0f"
   },
   "source": [
    "H0 : there is a relationship between height and leadership qualities\n",
    "\n",
    "H1 : there is no relationship between height and leadership qualities"
   ]
  },
  {
   "cell_type": "code",
   "execution_count": 22,
   "metadata": {
    "colab": {
     "base_uri": "https://localhost:8080/",
     "height": 119
    },
    "colab_type": "code",
    "id": "FTmm14GrOxf3",
    "outputId": "14c2341c-afae-43fa-c88e-6c13b4ba1cda"
   },
   "outputs": [
    {
     "data": {
      "text/plain": [
       "(10.712198008709638,\n",
       " 0.004719280137040844,\n",
       " 2,\n",
       " array([[19.91578947, 24.08421053],\n",
       "        [16.29473684, 19.70526316],\n",
       "        [ 6.78947368,  8.21052632]]))"
      ]
     },
     "execution_count": 22,
     "metadata": {
      "tags": []
     },
     "output_type": "execute_result"
    }
   ],
   "source": [
    "table = np.array([12,32,22,14,9,6]).reshape(3,2)\n",
    "stats.chi2_contingency(table)"
   ]
  },
  {
   "cell_type": "markdown",
   "metadata": {
    "colab_type": "text",
    "id": "SbVVT0vHPQJ2"
   },
   "source": [
    "**As P-value is less than 0.01 so we reject null hypothesis and accept the alternate hypothesis i.e. there is no relationship between height and leadership qualities.**"
   ]
  },
  {
   "cell_type": "markdown",
   "metadata": {
    "colab_type": "text",
    "id": "0NlHOYdTQGM2"
   },
   "source": [
    "--------------------"
   ]
  },
  {
   "cell_type": "markdown",
   "metadata": {
    "colab_type": "text",
    "id": "EJtDDDjxQGew"
   },
   "source": [
    "**Problem Statement 23:**\n",
    "\n",
    "**Each respondent in the Current Population Survey of March 1993 was classified as\n",
    "employed, unemployed, or outside the labor force. The results for men in California age 35-\n",
    "44 can be cross-tabulated by marital status, as follows:**"
   ]
  },
  {
   "cell_type": "markdown",
   "metadata": {
    "colab_type": "text",
    "id": "YdD7ln9ZQGrJ"
   },
   "source": [
    "![Stats2_problem23.PNG](data:image/png;base64,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)"
   ]
  },
  {
   "cell_type": "markdown",
   "metadata": {
    "colab_type": "text",
    "id": "IrbQnVm2QMCx"
   },
   "source": [
    "**Men of different marital status seem to have different distributions of labor force status. Or is\n",
    "this just chance variation? (you may assume the table results from a simple random\n",
    "sample.)**"
   ]
  },
  {
   "cell_type": "markdown",
   "metadata": {
    "colab_type": "text",
    "id": "zhIvRPygQL7I"
   },
   "source": [
    "H0 : There is a relationship between Marital Status and Employment\n",
    "\n",
    "H1 : There is no relationship between Marital Status and Employment"
   ]
  },
  {
   "cell_type": "code",
   "execution_count": 23,
   "metadata": {
    "colab": {
     "base_uri": "https://localhost:8080/",
     "height": 119
    },
    "colab_type": "code",
    "id": "HLjIA_YUQFXd",
    "outputId": "750345a3-829e-4e05-ebd4-a1cc4220e7f5"
   },
   "outputs": [
    {
     "data": {
      "text/plain": [
       "(31.61310319407798,\n",
       " 2.2949883042859918e-06,\n",
       " 4,\n",
       " array([[654.06331471, 109.2886406 , 132.64804469],\n",
       "        [ 67.88826816,  11.34357542,  13.76815642],\n",
       "        [ 62.04841713,  10.36778399,  12.58379888]]))"
      ]
     },
     "execution_count": 23,
     "metadata": {
      "tags": []
     },
     "output_type": "execute_result"
    }
   ],
   "source": [
    "table = np.array([679,103,114,63,10,20,42,18,25]).reshape(3,3)\n",
    "stats.chi2_contingency(table)"
   ]
  },
  {
   "cell_type": "markdown",
   "metadata": {
    "colab_type": "text",
    "id": "tEe4iskDQ5sn"
   },
   "source": [
    "**As P-value is less than 0.05 so we reject null hypothesis and accept the alternate hypothesis i.e. There is no relationship between Marital Status and Employment.**"
   ]
  }
 ],
 "metadata": {
  "colab": {
   "collapsed_sections": [],
   "name": "Stats2_Assignment.ipynb",
   "provenance": []
  },
  "kernelspec": {
   "display_name": "Python 3",
   "language": "python",
   "name": "python3"
  },
  "language_info": {
   "codemirror_mode": {
    "name": "ipython",
    "version": 3
   },
   "file_extension": ".py",
   "mimetype": "text/x-python",
   "name": "python",
   "nbconvert_exporter": "python",
   "pygments_lexer": "ipython3",
   "version": "3.7.7"
  }
 },
 "nbformat": 4,
 "nbformat_minor": 1
}
