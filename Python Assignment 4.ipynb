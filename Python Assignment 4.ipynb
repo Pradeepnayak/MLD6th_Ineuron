{
 "cells": [
  {
   "cell_type": "markdown",
   "metadata": {},
   "source": [
    "### 1.1 Write a Python Program(with class concepts) to find the area of the triangle using the below\n",
    "formula.\n",
    "\n",
    "area = (s*(s-a)*(s-b)*(s-c)) ** 0.5\n",
    "\n",
    "Function to take the length of the sides of triangle from user should be defined in the parent\n",
    "class and function to calculate the area should be defined in subclass."
   ]
  },
  {
   "cell_type": "code",
   "execution_count": 2,
   "metadata": {},
   "outputs": [
    {
     "name": "stdout",
     "output_type": "stream",
     "text": [
      "Enter side a = 2\n",
      "Enter side b = 3\n",
      "Enter side c = 4\n",
      "area : 2.9047375096555625\n"
     ]
    }
   ],
   "source": [
    "class Parent:\n",
    "    def __init__(self):\n",
    "        self.a = float(input(\"Enter side a = \"))\n",
    "        self.b = float(input(\"Enter side b = \"))\n",
    "        self.c = float(input(\"Enter side c = \"))\n",
    "\n",
    "class Child(Parent):\n",
    "    def __init__(self,*args):\n",
    "        super(Child,self).__init__(*args)\n",
    "\n",
    "    def get_area(self):\n",
    "        s = (self.a + self.b + self.c) / 2\n",
    "        return (s*(s-self.a)*(s-self.b)*(s-self.c)) ** 0.5        \n",
    "\n",
    "t = Child()\n",
    "print(\"area : {}\".format(t.get_area()))"
   ]
  },
  {
   "cell_type": "markdown",
   "metadata": {},
   "source": [
    "### 1.2 Write a function filter_long_words() that takes a list of words and an integer n and returns the list of words that are longer than n. "
   ]
  },
  {
   "cell_type": "code",
   "execution_count": 3,
   "metadata": {},
   "outputs": [
    {
     "data": {
      "text/plain": [
       "['pradeep', 'nayak']"
      ]
     },
     "execution_count": 3,
     "metadata": {},
     "output_type": "execute_result"
    }
   ],
   "source": [
    "def filter_long_words(mylist,num):\n",
    "    length = []\n",
    "    for i in range(len(mylist)):\n",
    "        if len(mylist[i])>num:\n",
    "            length.append(mylist[i])\n",
    "    return length\n",
    "\n",
    "filter_long_words(['pradeep','nayak','as','asd'],3)"
   ]
  },
  {
   "cell_type": "markdown",
   "metadata": {},
   "source": [
    "### 2.1 Write a Python program using function concept that maps list of words into a list of integers representing the lengths of the corresponding words.\n",
    "Hint: If a list [ ab,cde,erty] is passed on to the python function output should come as [2,3,4]\n",
    "Here 2,3 and 4 are the lengths of the words in the list. \n"
   ]
  },
  {
   "cell_type": "code",
   "execution_count": 6,
   "metadata": {},
   "outputs": [
    {
     "data": {
      "text/plain": [
       "[5, 2, 7, 5]"
      ]
     },
     "execution_count": 6,
     "metadata": {},
     "output_type": "execute_result"
    }
   ],
   "source": [
    "def length_of_elements(mylist):\n",
    "    length = []\n",
    "    for i in mylist:\n",
    "        length.append(len(i))\n",
    "    return length\n",
    "\n",
    "length_of_elements(['hello','hi','Pradeep','Nayak'])"
   ]
  },
  {
   "cell_type": "markdown",
   "metadata": {},
   "source": [
    "### 2.2 Write a Python function which takes a character (i.e. a string of length 1) and returns True if it is a vowel, False otherwise."
   ]
  },
  {
   "cell_type": "code",
   "execution_count": 5,
   "metadata": {},
   "outputs": [],
   "source": [
    "def check_for_vowels(char):\n",
    "    temp = char.lower() \n",
    "    if(temp == 'a' or temp == 'e' or temp == 'i' or temp == 'o' or temp == 'u'):\n",
    "        return True\n",
    "    else:\n",
    "        return False"
   ]
  },
  {
   "cell_type": "code",
   "execution_count": 6,
   "metadata": {},
   "outputs": [
    {
     "name": "stdout",
     "output_type": "stream",
     "text": [
      "input : u\n",
      "True\n"
     ]
    }
   ],
   "source": [
    "while True:\n",
    "    answer = input(\"input : \")\n",
    "    if len(answer) <= 1:\n",
    "        print(check_for_vowels(answer))\n",
    "        break\n",
    "    else:\n",
    "        print(\"Please enter single character!\")"
   ]
  },
  {
   "cell_type": "code",
   "execution_count": null,
   "metadata": {},
   "outputs": [],
   "source": []
  }
 ],
 "metadata": {
  "kernelspec": {
   "display_name": "Python 3",
   "language": "python",
   "name": "python3"
  },
  "language_info": {
   "codemirror_mode": {
    "name": "ipython",
    "version": 3
   },
   "file_extension": ".py",
   "mimetype": "text/x-python",
   "name": "python",
   "nbconvert_exporter": "python",
   "pygments_lexer": "ipython3",
   "version": "3.7.3"
  }
 },
 "nbformat": 4,
 "nbformat_minor": 2
}
