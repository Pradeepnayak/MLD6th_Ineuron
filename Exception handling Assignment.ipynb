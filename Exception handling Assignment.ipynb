{
 "cells": [
  {
   "cell_type": "markdown",
   "metadata": {},
   "source": [
    "### 1. Write a function to compute 5/0 and use try/except to catch the exceptions."
   ]
  },
  {
   "cell_type": "code",
   "execution_count": 22,
   "metadata": {},
   "outputs": [
    {
     "name": "stdout",
     "output_type": "stream",
     "text": [
      "Error : ZeroDivisionError division by zero\n"
     ]
    }
   ],
   "source": [
    "def divide_by_zero(num,den):\n",
    "    try:\n",
    "        val = num/den\n",
    "    except :\n",
    "        print('Error : ZeroDivisionError division by zero')\n",
    "    else:\n",
    "        print('Successfully executed :',val)\n",
    "        \n",
    "divide_by_zero(5,0)"
   ]
  },
  {
   "cell_type": "markdown",
   "metadata": {},
   "source": [
    "### 2. Implement a Python program to generate all sentences where subject is in [\"Americans\", \"Indians\"] and verb is in [\"Play\", \"watch\"] and the object is in [\"Baseball\",\"cricket\"]. "
   ]
  },
  {
   "cell_type": "code",
   "execution_count": 23,
   "metadata": {},
   "outputs": [
    {
     "name": "stdout",
     "output_type": "stream",
     "text": [
      "Americans play Baseball\n",
      "Americans play Cricket\n",
      "Americans watch Baseball\n",
      "Americans watch Cricket\n",
      "Indians play Baseball\n",
      "Indians play Cricket\n",
      "Indians watch Baseball\n",
      "Indians watch Cricket\n"
     ]
    }
   ],
   "source": [
    "subjects=[\"Americans\",\"Indians\"]\n",
    "verbs=[\"play\",\"watch\"]\n",
    "objects=[\"Baseball\",\"Cricket\"]\n",
    "\n",
    "store_values  = ''\n",
    "for item_i in subjects:\n",
    "    for item_j in verbs:\n",
    "        for item_k in objects:\n",
    "            store_values =  item_i+\" \"+item_j+\" \"+item_k  #storing list of items to variable store_values\n",
    "            print(store_values)"
   ]
  },
  {
   "cell_type": "markdown",
   "metadata": {},
   "source": [
    "\n",
    "Also in List comprehension:"
   ]
  },
  {
   "cell_type": "code",
   "execution_count": 19,
   "metadata": {},
   "outputs": [
    {
     "name": "stdout",
     "output_type": "stream",
     "text": [
      "Americans play Baseball\n",
      "Americans play Cricket\n",
      "Americans watch Baseball\n",
      "Americans watch Cricket\n",
      "Indians play Baseball\n",
      "Indians play Cricket\n",
      "Indians watch Baseball\n",
      "Indians watch Cricket\n"
     ]
    }
   ],
   "source": [
    "store_values = [(item_i+\" \"+item_j+\" \"+item_k) for item_i in subjects for item_j in verbs for item_k in objects]\n",
    "for item_list in store_values:\n",
    "    print(item_list)"
   ]
  },
  {
   "cell_type": "code",
   "execution_count": null,
   "metadata": {},
   "outputs": [],
   "source": []
  }
 ],
 "metadata": {
  "kernelspec": {
   "display_name": "Python 3",
   "language": "python",
   "name": "python3"
  },
  "language_info": {
   "codemirror_mode": {
    "name": "ipython",
    "version": 3
   },
   "file_extension": ".py",
   "mimetype": "text/x-python",
   "name": "python",
   "nbconvert_exporter": "python",
   "pygments_lexer": "ipython3",
   "version": "3.7.3"
  }
 },
 "nbformat": 4,
 "nbformat_minor": 2
}
